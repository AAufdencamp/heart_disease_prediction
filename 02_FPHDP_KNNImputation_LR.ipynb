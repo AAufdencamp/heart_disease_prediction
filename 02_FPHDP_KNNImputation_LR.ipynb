{
  "nbformat": 4,
  "nbformat_minor": 0,
  "metadata": {
    "colab": {
      "provenance": [],
      "authorship_tag": "ABX9TyMsrEB4zdDTAc/QKufULvl+"
    },
    "kernelspec": {
      "name": "python3",
      "display_name": "Python 3"
    },
    "language_info": {
      "name": "python"
    }
  },
  "cells": [
    {
      "cell_type": "markdown",
      "source": [
        "# Introduction 02_FPHDP_KNNImputation_LR\n"
      ],
      "metadata": {
        "id": "TnsFClGYN_dt"
      }
    },
    {
      "cell_type": "markdown",
      "source": [
        "01-FPHDP used logistic regression, because it was used in Sci-kit Learns ColumnTransformer example. (Fortunately logisitc regression is useful for classification.) In 02_FPHDP_KNNImputation_LR we replace SimpleImputer with KNNImputer and forgo the data evaluation phase, the groundwork for which was already made in 01-FPHDP (Final Project Heart Disease Prediction)\n",
        "\n",
        "\n",
        "\n"
      ],
      "metadata": {
        "id": "2E1RsGbLkZUh"
      }
    },
    {
      "cell_type": "markdown",
      "source": [
        "### Import Libraries"
      ],
      "metadata": {
        "id": "vQlzz456ODgp"
      }
    },
    {
      "cell_type": "code",
      "source": [
        "from google.colab import files\n",
        "uploaded = files.upload()"
      ],
      "metadata": {
        "colab": {
          "resources": {
            "http://localhost:8080/nbextensions/google.colab/files.js": {
              "data": "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",
              "ok": true,
              "headers": [
                [
                  "content-type",
                  "application/javascript"
                ]
              ],
              "status": 200,
              "status_text": ""
            }
          },
          "base_uri": "https://localhost:8080/",
          "height": 74
        },
        "id": "aO15K2-_vsDd",
        "outputId": "6561f6fa-24d6-4e36-a672-4504079d1514"
      },
      "execution_count": null,
      "outputs": [
        {
          "output_type": "display_data",
          "data": {
            "text/plain": [
              "<IPython.core.display.HTML object>"
            ],
            "text/html": [
              "\n",
              "     <input type=\"file\" id=\"files-cf240776-07c2-454c-b308-0ea092a1b085\" name=\"files[]\" multiple disabled\n",
              "        style=\"border:none\" />\n",
              "     <output id=\"result-cf240776-07c2-454c-b308-0ea092a1b085\">\n",
              "      Upload widget is only available when the cell has been executed in the\n",
              "      current browser session. Please rerun this cell to enable.\n",
              "      </output>\n",
              "      <script src=\"/nbextensions/google.colab/files.js\"></script> "
            ]
          },
          "metadata": {}
        },
        {
          "output_type": "stream",
          "name": "stdout",
          "text": [
            "Saving heart.csv to heart.csv\n"
          ]
        }
      ]
    },
    {
      "cell_type": "code",
      "source": [
        "import numpy as np\n",
        "import pandas as pd\n",
        "import matplotlib.pyplot as plt\n",
        "import seaborn as sns\n",
        "\n",
        "from sklearn.compose import ColumnTransformer\n",
        "from sklearn.datasets import fetch_openml\n",
        "from sklearn.pipeline import Pipeline\n",
        "from sklearn import datasets, linear_model\n",
        "from sklearn.metrics import mean_squared_error, r2_score, accuracy_score, recall_score, precision_score, roc_auc_score, auc\n",
        "from sklearn.impute import SimpleImputer\n",
        "from sklearn.impute import KNNImputer\n",
        "from sklearn.preprocessing import StandardScaler, OneHotEncoder\n",
        "from sklearn.linear_model import LogisticRegression\n",
        "from sklearn.model_selection import train_test_split, GridSearchCV\n",
        "\n",
        "\n",
        "np.random.seed(42)"
      ],
      "metadata": {
        "id": "K7AieIAhoTz4"
      },
      "execution_count": null,
      "outputs": []
    },
    {
      "cell_type": "code",
      "source": [
        "#Pandas dataframe\n",
        "heart = pd.read_csv(\"/content/heart.csv\")"
      ],
      "metadata": {
        "id": "zVABa-J6onXf"
      },
      "execution_count": null,
      "outputs": []
    },
    {
      "cell_type": "code",
      "source": [
        "#https://www.youtube.com/watch?v=JR92LxKgMBE\n",
        "numeric_features = heart.select_dtypes(include=[np.number])\n",
        "numeric_features.columns"
      ],
      "metadata": {
        "colab": {
          "base_uri": "https://localhost:8080/"
        },
        "id": "l-5W7dw0C44j",
        "outputId": "525cea2f-5f06-4fe4-b982-6ba1a72f91a2"
      },
      "execution_count": null,
      "outputs": [
        {
          "output_type": "execute_result",
          "data": {
            "text/plain": [
              "Index(['Age', 'RestingBP', 'Cholesterol', 'FastingBS', 'MaxHR', 'Oldpeak',\n",
              "       'HeartDisease'],\n",
              "      dtype='object')"
            ]
          },
          "metadata": {},
          "execution_count": 4
        }
      ]
    },
    {
      "cell_type": "code",
      "source": [
        "categorical_features = heart.select_dtypes(include=[object])\n",
        "categorical_features.columns"
      ],
      "metadata": {
        "colab": {
          "base_uri": "https://localhost:8080/"
        },
        "id": "3YXN_p-PDZLA",
        "outputId": "ce1acc5f-6e55-48d7-d64e-512d01128126"
      },
      "execution_count": null,
      "outputs": [
        {
          "output_type": "execute_result",
          "data": {
            "text/plain": [
              "Index(['Sex', 'ChestPainType', 'RestingECG', 'ExerciseAngina', 'ST_Slope'], dtype='object')"
            ]
          },
          "metadata": {},
          "execution_count": 5
        }
      ]
    },
    {
      "cell_type": "code",
      "source": [
        "#X = heart.loc[:, :'ST_Slope']\n",
        "X= heart.drop('HeartDisease', axis=1)\n",
        "#y = heart.HeartDisease\n",
        "y = heart['HeartDisease']"
      ],
      "metadata": {
        "id": "aGYdiJhepiro"
      },
      "execution_count": null,
      "outputs": []
    },
    {
      "cell_type": "code",
      "source": [
        "X.shape\n"
      ],
      "metadata": {
        "colab": {
          "base_uri": "https://localhost:8080/"
        },
        "id": "COv-1f3crHtT",
        "outputId": "6516c1d1-53a9-467e-a396-3f8a74e24778"
      },
      "execution_count": null,
      "outputs": [
        {
          "output_type": "execute_result",
          "data": {
            "text/plain": [
              "(918, 11)"
            ]
          },
          "metadata": {},
          "execution_count": 7
        }
      ]
    },
    {
      "cell_type": "code",
      "source": [
        "y.shape"
      ],
      "metadata": {
        "colab": {
          "base_uri": "https://localhost:8080/"
        },
        "id": "5vsHS5_6rf_t",
        "outputId": "a36aeedc-ba61-4547-ceb9-e094447480ca"
      },
      "execution_count": null,
      "outputs": [
        {
          "output_type": "execute_result",
          "data": {
            "text/plain": [
              "(918,)"
            ]
          },
          "metadata": {},
          "execution_count": 8
        }
      ]
    },
    {
      "cell_type": "code",
      "source": [
        "# Verifying X has the features I expect\n",
        "X.columns"
      ],
      "metadata": {
        "colab": {
          "base_uri": "https://localhost:8080/"
        },
        "id": "7YJhgrnArYjM",
        "outputId": "932befe0-1bc2-424d-a570-b8b7219225ed"
      },
      "execution_count": null,
      "outputs": [
        {
          "output_type": "execute_result",
          "data": {
            "text/plain": [
              "Index(['Age', 'Sex', 'ChestPainType', 'RestingBP', 'Cholesterol', 'FastingBS',\n",
              "       'RestingECG', 'MaxHR', 'ExerciseAngina', 'Oldpeak', 'ST_Slope'],\n",
              "      dtype='object')"
            ]
          },
          "metadata": {},
          "execution_count": 9
        }
      ]
    },
    {
      "cell_type": "code",
      "source": [
        "numeric_features = ['Age', 'RestingBP', 'Cholesterol', 'FastingBS', 'MaxHR', 'Oldpeak']\n",
        "numeric_transformer = Pipeline(\n",
        "    steps=[(\"imputer\", KNNImputer(missing_values=0, n_neighbors=5)), (\"scaler\", StandardScaler())]\n",
        ")\n",
        "\n",
        "categorical_features = ['Sex', 'ChestPainType', 'RestingECG', 'ExerciseAngina', 'ST_Slope']\n",
        "categorical_transformer = OneHotEncoder(handle_unknown=\"ignore\")\n",
        "\n",
        "preprocessor = ColumnTransformer(\n",
        "    transformers=[\n",
        "        (\"num\", numeric_transformer, numeric_features),\n",
        "        (\"cat\", categorical_transformer, categorical_features),\n",
        "    ],\n",
        ")\n",
        "\n",
        "clf = Pipeline(\n",
        "    steps=[(\"preprocessor\", preprocessor), (\"classifier\", LogisticRegression())]\n",
        ")\n",
        "\n",
        "#https://www.youtube.com/watch?v=qmqCYC-MBQo by Siddhardhan: idea to\n",
        "# startify y so that we have a balanced response values within test set and\n",
        "# training set.\n",
        "X_train, X_test, y_train, y_test = train_test_split(X, y, test_size=0.2, stratify = y, random_state=42)\n",
        "\n",
        "clf.fit(X_train, y_train)\n",
        "\n",
        "#https://www.youtube.com/watch?v=qmqCYC-MBQo by Siddhardhan: looking at accuracy score\n",
        "X_train_prediction = clf.predict(X_train)\n",
        "training_data_accuracy = accuracy_score(X_train_prediction, y_train)\n",
        "print(\"Accuracy on training data :\", training_data_accuracy)\n",
        "\n",
        "\n",
        "print(\"model score on test set: %.3f\" % clf.score(X_test, y_test))"
      ],
      "metadata": {
        "colab": {
          "base_uri": "https://localhost:8080/"
        },
        "id": "r-Co6ww-eb0Z",
        "outputId": "a09f1ef1-8c8a-44e3-c699-ee5d7b39c967"
      },
      "execution_count": null,
      "outputs": [
        {
          "output_type": "stream",
          "name": "stdout",
          "text": [
            "Accuracy on training data : 0.8474114441416893\n",
            "model score on test set: 0.864\n"
          ]
        }
      ]
    },
    {
      "cell_type": "markdown",
      "source": [
        "Since the accuracy scores on the training data and the test set are relatively close I am not concerned about overfitting, especially since the test set accuracy is higher than that of the training set."
      ],
      "metadata": {
        "id": "aWf6hI_iryvB"
      }
    },
    {
      "cell_type": "markdown",
      "source": [
        "'Grid search can also be performed on the different preprocessing steps defined in the ColumnTransformer object, together with the classifier's hyperparameters as part of the Pipeline. We will search for both the imputer strategy of the numeric preprocessing and the regularization parameter of the logistic regression using :class:~sklearn.model_selection.GridSearchCV.'"
      ],
      "metadata": {
        "id": "nQbMUHKbDQxy"
      }
    },
    {
      "cell_type": "code",
      "source": [
        "param_grid = {\n",
        "    \"preprocessor__num__imputer__n_neighbors\": [2,3,5,10],\n",
        "    \"classifier__C\": [0.1, 1.0, 10, 100],\n",
        "}\n",
        "\n",
        "\n",
        "grid_search = GridSearchCV(clf, param_grid, cv=10)\n",
        "grid_search"
      ],
      "metadata": {
        "colab": {
          "base_uri": "https://localhost:8080/"
        },
        "id": "wHiBaV0wDfTX",
        "outputId": "d38925a6-891b-4bdd-cccd-e27f4d568041"
      },
      "execution_count": null,
      "outputs": [
        {
          "output_type": "execute_result",
          "data": {
            "text/plain": [
              "GridSearchCV(cv=10,\n",
              "             estimator=Pipeline(steps=[('preprocessor',\n",
              "                                        ColumnTransformer(transformers=[('num',\n",
              "                                                                         Pipeline(steps=[('imputer',\n",
              "                                                                                          KNNImputer(missing_values=0)),\n",
              "                                                                                         ('scaler',\n",
              "                                                                                          StandardScaler())]),\n",
              "                                                                         ['Age',\n",
              "                                                                          'RestingBP',\n",
              "                                                                          'Cholesterol',\n",
              "                                                                          'FastingBS',\n",
              "                                                                          'MaxHR',\n",
              "                                                                          'Oldpeak']),\n",
              "                                                                        ('cat',\n",
              "                                                                         OneHotEncoder(handle_unknown='ignore'),\n",
              "                                                                         ['Sex',\n",
              "                                                                          'ChestPainType',\n",
              "                                                                          'RestingECG',\n",
              "                                                                          'ExerciseAngina',\n",
              "                                                                          'ST_Slope'])])),\n",
              "                                       ('classifier', LogisticRegression())]),\n",
              "             param_grid={'classifier__C': [0.1, 1.0, 10, 100],\n",
              "                         'preprocessor__num__imputer__n_neighbors': [2, 3, 5,\n",
              "                                                                     10]})"
            ]
          },
          "metadata": {},
          "execution_count": 11
        }
      ]
    },
    {
      "cell_type": "code",
      "source": [
        "grid_search.estimator.get_params().keys()"
      ],
      "metadata": {
        "id": "07knmO_U6jsk",
        "colab": {
          "base_uri": "https://localhost:8080/"
        },
        "outputId": "4083eb65-213a-4e8d-d766-bd589f5807c5"
      },
      "execution_count": null,
      "outputs": [
        {
          "output_type": "execute_result",
          "data": {
            "text/plain": [
              "dict_keys(['memory', 'steps', 'verbose', 'preprocessor', 'classifier', 'preprocessor__n_jobs', 'preprocessor__remainder', 'preprocessor__sparse_threshold', 'preprocessor__transformer_weights', 'preprocessor__transformers', 'preprocessor__verbose', 'preprocessor__verbose_feature_names_out', 'preprocessor__num', 'preprocessor__cat', 'preprocessor__num__memory', 'preprocessor__num__steps', 'preprocessor__num__verbose', 'preprocessor__num__imputer', 'preprocessor__num__scaler', 'preprocessor__num__imputer__add_indicator', 'preprocessor__num__imputer__copy', 'preprocessor__num__imputer__metric', 'preprocessor__num__imputer__missing_values', 'preprocessor__num__imputer__n_neighbors', 'preprocessor__num__imputer__weights', 'preprocessor__num__scaler__copy', 'preprocessor__num__scaler__with_mean', 'preprocessor__num__scaler__with_std', 'preprocessor__cat__categories', 'preprocessor__cat__drop', 'preprocessor__cat__dtype', 'preprocessor__cat__handle_unknown', 'preprocessor__cat__sparse', 'classifier__C', 'classifier__class_weight', 'classifier__dual', 'classifier__fit_intercept', 'classifier__intercept_scaling', 'classifier__l1_ratio', 'classifier__max_iter', 'classifier__multi_class', 'classifier__n_jobs', 'classifier__penalty', 'classifier__random_state', 'classifier__solver', 'classifier__tol', 'classifier__verbose', 'classifier__warm_start'])"
            ]
          },
          "metadata": {},
          "execution_count": 12
        }
      ]
    },
    {
      "cell_type": "code",
      "source": [
        "grid_search.fit(X_train, y_train)\n",
        "\n",
        "print(\"Best params:\")\n",
        "print(grid_search.best_params_)"
      ],
      "metadata": {
        "id": "OFlGcw6sDxos",
        "colab": {
          "base_uri": "https://localhost:8080/"
        },
        "outputId": "18ae3be3-38f3-4f1b-8503-93fd6123e8b6"
      },
      "execution_count": null,
      "outputs": [
        {
          "output_type": "stream",
          "name": "stdout",
          "text": [
            "Best params:\n",
            "{'classifier__C': 0.1, 'preprocessor__num__imputer__n_neighbors': 2}\n"
          ]
        }
      ]
    },
    {
      "cell_type": "markdown",
      "source": [
        "'The internal cross-validation scores obtained by those parameters is:'"
      ],
      "metadata": {
        "id": "7BsE-bdwEBVk"
      }
    },
    {
      "cell_type": "code",
      "source": [
        "print(f\"Internal CV score: {grid_search.best_score_:.3f}\")"
      ],
      "metadata": {
        "id": "IhmP4NiGEBxu",
        "colab": {
          "base_uri": "https://localhost:8080/"
        },
        "outputId": "1156d15b-62b2-4077-f973-583ed276d025"
      },
      "execution_count": null,
      "outputs": [
        {
          "output_type": "stream",
          "name": "stdout",
          "text": [
            "Internal CV score: 0.847\n"
          ]
        }
      ]
    },
    {
      "cell_type": "markdown",
      "source": [
        "'We can also introspect the top grid search results as a pandas dataframe:'"
      ],
      "metadata": {
        "id": "XCMife1xELm-"
      }
    },
    {
      "cell_type": "code",
      "source": [
        "import pandas as pd\n",
        "\n",
        "cv_results = pd.DataFrame(grid_search.cv_results_)\n",
        "cv_results = cv_results.sort_values(\"mean_test_score\", ascending=False)\n",
        "cv_results.head(8)\n"
      ],
      "metadata": {
        "id": "rsImmDWsEM2e",
        "colab": {
          "base_uri": "https://localhost:8080/",
          "height": 503
        },
        "outputId": "aee38477-3954-42ca-b2a5-e5dd6a5d8fb5"
      },
      "execution_count": null,
      "outputs": [
        {
          "output_type": "execute_result",
          "data": {
            "text/plain": [
              "    mean_fit_time  std_fit_time  mean_score_time  std_score_time  \\\n",
              "0        0.115887      0.028611         0.031354        0.009435   \n",
              "8        0.140540      0.035370         0.027832        0.008674   \n",
              "12       0.136978      0.020596         0.039696        0.011353   \n",
              "1        0.105160      0.026924         0.029775        0.014344   \n",
              "5        0.164015      0.051478         0.031587        0.010982   \n",
              "9        0.137727      0.043029         0.040979        0.021285   \n",
              "13       0.123331      0.009829         0.029062        0.007314   \n",
              "4        0.114756      0.022551         0.027066        0.008410   \n",
              "\n",
              "   param_classifier__C param_preprocessor__num__imputer__n_neighbors  \\\n",
              "0                  0.1                                             2   \n",
              "8                   10                                             2   \n",
              "12                 100                                             2   \n",
              "1                  0.1                                             3   \n",
              "5                  1.0                                             3   \n",
              "9                   10                                             3   \n",
              "13                 100                                             3   \n",
              "4                  1.0                                             2   \n",
              "\n",
              "                                               params  split0_test_score  \\\n",
              "0   {'classifier__C': 0.1, 'preprocessor__num__imp...           0.878378   \n",
              "8   {'classifier__C': 10, 'preprocessor__num__impu...           0.891892   \n",
              "12  {'classifier__C': 100, 'preprocessor__num__imp...           0.891892   \n",
              "1   {'classifier__C': 0.1, 'preprocessor__num__imp...           0.878378   \n",
              "5   {'classifier__C': 1.0, 'preprocessor__num__imp...           0.878378   \n",
              "9   {'classifier__C': 10, 'preprocessor__num__impu...           0.878378   \n",
              "13  {'classifier__C': 100, 'preprocessor__num__imp...           0.878378   \n",
              "4   {'classifier__C': 1.0, 'preprocessor__num__imp...           0.878378   \n",
              "\n",
              "    split1_test_score  split2_test_score  split3_test_score  \\\n",
              "0            0.891892           0.837838           0.864865   \n",
              "8            0.891892           0.837838           0.878378   \n",
              "12           0.891892           0.837838           0.878378   \n",
              "1            0.878378           0.837838           0.864865   \n",
              "5            0.878378           0.837838           0.878378   \n",
              "9            0.878378           0.837838           0.878378   \n",
              "13           0.878378           0.837838           0.878378   \n",
              "4            0.891892           0.837838           0.878378   \n",
              "\n",
              "    split4_test_score  split5_test_score  split6_test_score  \\\n",
              "0            0.876712           0.794521           0.835616   \n",
              "8            0.876712           0.808219           0.849315   \n",
              "12           0.876712           0.808219           0.849315   \n",
              "1            0.876712           0.794521           0.835616   \n",
              "5            0.876712           0.794521           0.849315   \n",
              "9            0.876712           0.794521           0.849315   \n",
              "13           0.876712           0.794521           0.849315   \n",
              "4            0.876712           0.808219           0.835616   \n",
              "\n",
              "    split7_test_score  split8_test_score  split9_test_score  mean_test_score  \\\n",
              "0            0.835616           0.821918           0.835616         0.847297   \n",
              "8            0.835616           0.808219           0.780822         0.845890   \n",
              "12           0.835616           0.808219           0.780822         0.845890   \n",
              "1            0.835616           0.808219           0.808219         0.841836   \n",
              "5            0.835616           0.808219           0.780822         0.841818   \n",
              "9            0.835616           0.808219           0.780822         0.841818   \n",
              "13           0.835616           0.808219           0.780822         0.841818   \n",
              "4            0.821918           0.808219           0.780822         0.841799   \n",
              "\n",
              "    std_test_score  rank_test_score  \n",
              "0         0.028385                1  \n",
              "8         0.036731                2  \n",
              "12        0.036731                2  \n",
              "1         0.030016                4  \n",
              "5         0.035248                5  \n",
              "9         0.035248                5  \n",
              "13        0.035248                5  \n",
              "4         0.035815                8  "
            ],
            "text/html": [
              "\n",
              "  <div id=\"df-cee293a8-f0b2-4b32-ac92-6c065f0232b7\">\n",
              "    <div class=\"colab-df-container\">\n",
              "      <div>\n",
              "<style scoped>\n",
              "    .dataframe tbody tr th:only-of-type {\n",
              "        vertical-align: middle;\n",
              "    }\n",
              "\n",
              "    .dataframe tbody tr th {\n",
              "        vertical-align: top;\n",
              "    }\n",
              "\n",
              "    .dataframe thead th {\n",
              "        text-align: right;\n",
              "    }\n",
              "</style>\n",
              "<table border=\"1\" class=\"dataframe\">\n",
              "  <thead>\n",
              "    <tr style=\"text-align: right;\">\n",
              "      <th></th>\n",
              "      <th>mean_fit_time</th>\n",
              "      <th>std_fit_time</th>\n",
              "      <th>mean_score_time</th>\n",
              "      <th>std_score_time</th>\n",
              "      <th>param_classifier__C</th>\n",
              "      <th>param_preprocessor__num__imputer__n_neighbors</th>\n",
              "      <th>params</th>\n",
              "      <th>split0_test_score</th>\n",
              "      <th>split1_test_score</th>\n",
              "      <th>split2_test_score</th>\n",
              "      <th>split3_test_score</th>\n",
              "      <th>split4_test_score</th>\n",
              "      <th>split5_test_score</th>\n",
              "      <th>split6_test_score</th>\n",
              "      <th>split7_test_score</th>\n",
              "      <th>split8_test_score</th>\n",
              "      <th>split9_test_score</th>\n",
              "      <th>mean_test_score</th>\n",
              "      <th>std_test_score</th>\n",
              "      <th>rank_test_score</th>\n",
              "    </tr>\n",
              "  </thead>\n",
              "  <tbody>\n",
              "    <tr>\n",
              "      <th>0</th>\n",
              "      <td>0.115887</td>\n",
              "      <td>0.028611</td>\n",
              "      <td>0.031354</td>\n",
              "      <td>0.009435</td>\n",
              "      <td>0.1</td>\n",
              "      <td>2</td>\n",
              "      <td>{'classifier__C': 0.1, 'preprocessor__num__imp...</td>\n",
              "      <td>0.878378</td>\n",
              "      <td>0.891892</td>\n",
              "      <td>0.837838</td>\n",
              "      <td>0.864865</td>\n",
              "      <td>0.876712</td>\n",
              "      <td>0.794521</td>\n",
              "      <td>0.835616</td>\n",
              "      <td>0.835616</td>\n",
              "      <td>0.821918</td>\n",
              "      <td>0.835616</td>\n",
              "      <td>0.847297</td>\n",
              "      <td>0.028385</td>\n",
              "      <td>1</td>\n",
              "    </tr>\n",
              "    <tr>\n",
              "      <th>8</th>\n",
              "      <td>0.140540</td>\n",
              "      <td>0.035370</td>\n",
              "      <td>0.027832</td>\n",
              "      <td>0.008674</td>\n",
              "      <td>10</td>\n",
              "      <td>2</td>\n",
              "      <td>{'classifier__C': 10, 'preprocessor__num__impu...</td>\n",
              "      <td>0.891892</td>\n",
              "      <td>0.891892</td>\n",
              "      <td>0.837838</td>\n",
              "      <td>0.878378</td>\n",
              "      <td>0.876712</td>\n",
              "      <td>0.808219</td>\n",
              "      <td>0.849315</td>\n",
              "      <td>0.835616</td>\n",
              "      <td>0.808219</td>\n",
              "      <td>0.780822</td>\n",
              "      <td>0.845890</td>\n",
              "      <td>0.036731</td>\n",
              "      <td>2</td>\n",
              "    </tr>\n",
              "    <tr>\n",
              "      <th>12</th>\n",
              "      <td>0.136978</td>\n",
              "      <td>0.020596</td>\n",
              "      <td>0.039696</td>\n",
              "      <td>0.011353</td>\n",
              "      <td>100</td>\n",
              "      <td>2</td>\n",
              "      <td>{'classifier__C': 100, 'preprocessor__num__imp...</td>\n",
              "      <td>0.891892</td>\n",
              "      <td>0.891892</td>\n",
              "      <td>0.837838</td>\n",
              "      <td>0.878378</td>\n",
              "      <td>0.876712</td>\n",
              "      <td>0.808219</td>\n",
              "      <td>0.849315</td>\n",
              "      <td>0.835616</td>\n",
              "      <td>0.808219</td>\n",
              "      <td>0.780822</td>\n",
              "      <td>0.845890</td>\n",
              "      <td>0.036731</td>\n",
              "      <td>2</td>\n",
              "    </tr>\n",
              "    <tr>\n",
              "      <th>1</th>\n",
              "      <td>0.105160</td>\n",
              "      <td>0.026924</td>\n",
              "      <td>0.029775</td>\n",
              "      <td>0.014344</td>\n",
              "      <td>0.1</td>\n",
              "      <td>3</td>\n",
              "      <td>{'classifier__C': 0.1, 'preprocessor__num__imp...</td>\n",
              "      <td>0.878378</td>\n",
              "      <td>0.878378</td>\n",
              "      <td>0.837838</td>\n",
              "      <td>0.864865</td>\n",
              "      <td>0.876712</td>\n",
              "      <td>0.794521</td>\n",
              "      <td>0.835616</td>\n",
              "      <td>0.835616</td>\n",
              "      <td>0.808219</td>\n",
              "      <td>0.808219</td>\n",
              "      <td>0.841836</td>\n",
              "      <td>0.030016</td>\n",
              "      <td>4</td>\n",
              "    </tr>\n",
              "    <tr>\n",
              "      <th>5</th>\n",
              "      <td>0.164015</td>\n",
              "      <td>0.051478</td>\n",
              "      <td>0.031587</td>\n",
              "      <td>0.010982</td>\n",
              "      <td>1.0</td>\n",
              "      <td>3</td>\n",
              "      <td>{'classifier__C': 1.0, 'preprocessor__num__imp...</td>\n",
              "      <td>0.878378</td>\n",
              "      <td>0.878378</td>\n",
              "      <td>0.837838</td>\n",
              "      <td>0.878378</td>\n",
              "      <td>0.876712</td>\n",
              "      <td>0.794521</td>\n",
              "      <td>0.849315</td>\n",
              "      <td>0.835616</td>\n",
              "      <td>0.808219</td>\n",
              "      <td>0.780822</td>\n",
              "      <td>0.841818</td>\n",
              "      <td>0.035248</td>\n",
              "      <td>5</td>\n",
              "    </tr>\n",
              "    <tr>\n",
              "      <th>9</th>\n",
              "      <td>0.137727</td>\n",
              "      <td>0.043029</td>\n",
              "      <td>0.040979</td>\n",
              "      <td>0.021285</td>\n",
              "      <td>10</td>\n",
              "      <td>3</td>\n",
              "      <td>{'classifier__C': 10, 'preprocessor__num__impu...</td>\n",
              "      <td>0.878378</td>\n",
              "      <td>0.878378</td>\n",
              "      <td>0.837838</td>\n",
              "      <td>0.878378</td>\n",
              "      <td>0.876712</td>\n",
              "      <td>0.794521</td>\n",
              "      <td>0.849315</td>\n",
              "      <td>0.835616</td>\n",
              "      <td>0.808219</td>\n",
              "      <td>0.780822</td>\n",
              "      <td>0.841818</td>\n",
              "      <td>0.035248</td>\n",
              "      <td>5</td>\n",
              "    </tr>\n",
              "    <tr>\n",
              "      <th>13</th>\n",
              "      <td>0.123331</td>\n",
              "      <td>0.009829</td>\n",
              "      <td>0.029062</td>\n",
              "      <td>0.007314</td>\n",
              "      <td>100</td>\n",
              "      <td>3</td>\n",
              "      <td>{'classifier__C': 100, 'preprocessor__num__imp...</td>\n",
              "      <td>0.878378</td>\n",
              "      <td>0.878378</td>\n",
              "      <td>0.837838</td>\n",
              "      <td>0.878378</td>\n",
              "      <td>0.876712</td>\n",
              "      <td>0.794521</td>\n",
              "      <td>0.849315</td>\n",
              "      <td>0.835616</td>\n",
              "      <td>0.808219</td>\n",
              "      <td>0.780822</td>\n",
              "      <td>0.841818</td>\n",
              "      <td>0.035248</td>\n",
              "      <td>5</td>\n",
              "    </tr>\n",
              "    <tr>\n",
              "      <th>4</th>\n",
              "      <td>0.114756</td>\n",
              "      <td>0.022551</td>\n",
              "      <td>0.027066</td>\n",
              "      <td>0.008410</td>\n",
              "      <td>1.0</td>\n",
              "      <td>2</td>\n",
              "      <td>{'classifier__C': 1.0, 'preprocessor__num__imp...</td>\n",
              "      <td>0.878378</td>\n",
              "      <td>0.891892</td>\n",
              "      <td>0.837838</td>\n",
              "      <td>0.878378</td>\n",
              "      <td>0.876712</td>\n",
              "      <td>0.808219</td>\n",
              "      <td>0.835616</td>\n",
              "      <td>0.821918</td>\n",
              "      <td>0.808219</td>\n",
              "      <td>0.780822</td>\n",
              "      <td>0.841799</td>\n",
              "      <td>0.035815</td>\n",
              "      <td>8</td>\n",
              "    </tr>\n",
              "  </tbody>\n",
              "</table>\n",
              "</div>\n",
              "      <button class=\"colab-df-convert\" onclick=\"convertToInteractive('df-cee293a8-f0b2-4b32-ac92-6c065f0232b7')\"\n",
              "              title=\"Convert this dataframe to an interactive table.\"\n",
              "              style=\"display:none;\">\n",
              "        \n",
              "  <svg xmlns=\"http://www.w3.org/2000/svg\" height=\"24px\"viewBox=\"0 0 24 24\"\n",
              "       width=\"24px\">\n",
              "    <path d=\"M0 0h24v24H0V0z\" fill=\"none\"/>\n",
              "    <path d=\"M18.56 5.44l.94 2.06.94-2.06 2.06-.94-2.06-.94-.94-2.06-.94 2.06-2.06.94zm-11 1L8.5 8.5l.94-2.06 2.06-.94-2.06-.94L8.5 2.5l-.94 2.06-2.06.94zm10 10l.94 2.06.94-2.06 2.06-.94-2.06-.94-.94-2.06-.94 2.06-2.06.94z\"/><path d=\"M17.41 7.96l-1.37-1.37c-.4-.4-.92-.59-1.43-.59-.52 0-1.04.2-1.43.59L10.3 9.45l-7.72 7.72c-.78.78-.78 2.05 0 2.83L4 21.41c.39.39.9.59 1.41.59.51 0 1.02-.2 1.41-.59l7.78-7.78 2.81-2.81c.8-.78.8-2.07 0-2.86zM5.41 20L4 18.59l7.72-7.72 1.47 1.35L5.41 20z\"/>\n",
              "  </svg>\n",
              "      </button>\n",
              "      \n",
              "  <style>\n",
              "    .colab-df-container {\n",
              "      display:flex;\n",
              "      flex-wrap:wrap;\n",
              "      gap: 12px;\n",
              "    }\n",
              "\n",
              "    .colab-df-convert {\n",
              "      background-color: #E8F0FE;\n",
              "      border: none;\n",
              "      border-radius: 50%;\n",
              "      cursor: pointer;\n",
              "      display: none;\n",
              "      fill: #1967D2;\n",
              "      height: 32px;\n",
              "      padding: 0 0 0 0;\n",
              "      width: 32px;\n",
              "    }\n",
              "\n",
              "    .colab-df-convert:hover {\n",
              "      background-color: #E2EBFA;\n",
              "      box-shadow: 0px 1px 2px rgba(60, 64, 67, 0.3), 0px 1px 3px 1px rgba(60, 64, 67, 0.15);\n",
              "      fill: #174EA6;\n",
              "    }\n",
              "\n",
              "    [theme=dark] .colab-df-convert {\n",
              "      background-color: #3B4455;\n",
              "      fill: #D2E3FC;\n",
              "    }\n",
              "\n",
              "    [theme=dark] .colab-df-convert:hover {\n",
              "      background-color: #434B5C;\n",
              "      box-shadow: 0px 1px 3px 1px rgba(0, 0, 0, 0.15);\n",
              "      filter: drop-shadow(0px 1px 2px rgba(0, 0, 0, 0.3));\n",
              "      fill: #FFFFFF;\n",
              "    }\n",
              "  </style>\n",
              "\n",
              "      <script>\n",
              "        const buttonEl =\n",
              "          document.querySelector('#df-cee293a8-f0b2-4b32-ac92-6c065f0232b7 button.colab-df-convert');\n",
              "        buttonEl.style.display =\n",
              "          google.colab.kernel.accessAllowed ? 'block' : 'none';\n",
              "\n",
              "        async function convertToInteractive(key) {\n",
              "          const element = document.querySelector('#df-cee293a8-f0b2-4b32-ac92-6c065f0232b7');\n",
              "          const dataTable =\n",
              "            await google.colab.kernel.invokeFunction('convertToInteractive',\n",
              "                                                     [key], {});\n",
              "          if (!dataTable) return;\n",
              "\n",
              "          const docLinkHtml = 'Like what you see? Visit the ' +\n",
              "            '<a target=\"_blank\" href=https://colab.research.google.com/notebooks/data_table.ipynb>data table notebook</a>'\n",
              "            + ' to learn more about interactive tables.';\n",
              "          element.innerHTML = '';\n",
              "          dataTable['output_type'] = 'display_data';\n",
              "          await google.colab.output.renderOutput(dataTable, element);\n",
              "          const docLink = document.createElement('div');\n",
              "          docLink.innerHTML = docLinkHtml;\n",
              "          element.appendChild(docLink);\n",
              "        }\n",
              "      </script>\n",
              "    </div>\n",
              "  </div>\n",
              "  "
            ]
          },
          "metadata": {},
          "execution_count": 15
        }
      ]
    },
    {
      "cell_type": "markdown",
      "source": [
        "'The best hyper-parameters have been used to re-fit a final model on the full training set. We can evaluate that final model on held out test data that was not used for hyperparameter tuning.'"
      ],
      "metadata": {
        "id": "ajWh6396EasX"
      }
    },
    {
      "cell_type": "code",
      "source": [
        "print(\n",
        "    (\n",
        "        \"best logistic regression from grid search: %.3f\"\n",
        "        % grid_search.score(X_test, y_test)\n",
        "    )\n",
        ")"
      ],
      "metadata": {
        "id": "8CYhYJcVEg2a",
        "colab": {
          "base_uri": "https://localhost:8080/"
        },
        "outputId": "5ef5cba5-d21a-4f71-e91c-1b081a5571f7"
      },
      "execution_count": null,
      "outputs": [
        {
          "output_type": "stream",
          "name": "stdout",
          "text": [
            "best logistic regression from grid search: 0.864\n"
          ]
        }
      ]
    },
    {
      "cell_type": "markdown",
      "source": [
        "**https://scikit-learn.org/stable/auto_examples/compose/plot_column_transformer_mixed_types.html#sphx-glr-auto-examples-compose-plot-column-transformer-mixed-types-py**\n",
        "\n",
        "Above code and text can be found in the link to the Column Transformer example in Sci-Kit Learn."
      ],
      "metadata": {
        "id": "6QDtGglHEzES"
      }
    },
    {
      "cell_type": "code",
      "source": [
        "heartdisease_y_pred = clf.predict(X_test)\n",
        "heartdisease_y_pred"
      ],
      "metadata": {
        "id": "D8c562VAKvDm",
        "colab": {
          "base_uri": "https://localhost:8080/"
        },
        "outputId": "6857e3a0-3e5f-483a-ff27-cc10a8f8e33a"
      },
      "execution_count": null,
      "outputs": [
        {
          "output_type": "execute_result",
          "data": {
            "text/plain": [
              "array([1, 0, 1, 1, 0, 0, 0, 1, 0, 1, 0, 0, 0, 0, 0, 1, 0, 1, 0, 1, 0, 1,\n",
              "       0, 0, 0, 1, 0, 1, 1, 0, 0, 0, 0, 0, 1, 1, 1, 1, 0, 1, 1, 0, 1, 0,\n",
              "       1, 1, 1, 1, 1, 0, 1, 0, 0, 0, 1, 1, 1, 0, 0, 0, 0, 1, 0, 0, 0, 1,\n",
              "       1, 1, 0, 0, 0, 1, 0, 1, 0, 1, 1, 1, 1, 1, 1, 1, 1, 0, 1, 0, 0, 1,\n",
              "       0, 1, 0, 1, 0, 0, 1, 1, 1, 1, 0, 1, 1, 1, 1, 0, 1, 1, 1, 0, 0, 1,\n",
              "       1, 0, 0, 1, 1, 0, 1, 0, 1, 1, 0, 0, 0, 0, 0, 1, 0, 1, 1, 0, 0, 0,\n",
              "       1, 0, 0, 1, 1, 0, 0, 1, 1, 1, 0, 1, 1, 1, 0, 1, 1, 1, 1, 0, 1, 0,\n",
              "       1, 1, 0, 0, 1, 1, 1, 1, 0, 0, 1, 0, 1, 1, 0, 1, 1, 0, 1, 1, 1, 0,\n",
              "       0, 0, 0, 0, 1, 1, 1, 1])"
            ]
          },
          "metadata": {},
          "execution_count": 17
        }
      ]
    },
    {
      "cell_type": "markdown",
      "source": [
        "The GridSearchCV object itself doesn't have a coefficient, because it's not an estimator, it's an object that cycles through parameters and trains various estimators.\n",
        "https://stackoverflow.com/questions/62776587/python-gridsearchcv-object-has-no-attribute-coef"
      ],
      "metadata": {
        "id": "troLa2p5NlYC"
      }
    },
    {
      "cell_type": "code",
      "source": [
        "y_test.shape\n",
        "\n"
      ],
      "metadata": {
        "id": "10qqupo0cDQH",
        "colab": {
          "base_uri": "https://localhost:8080/"
        },
        "outputId": "ccaa5e5b-4302-43a5-aa46-92b62d7d295b"
      },
      "execution_count": null,
      "outputs": [
        {
          "output_type": "execute_result",
          "data": {
            "text/plain": [
              "(184,)"
            ]
          },
          "metadata": {},
          "execution_count": 18
        }
      ]
    },
    {
      "cell_type": "code",
      "source": [
        "heartdisease_y_pred.shape"
      ],
      "metadata": {
        "id": "usXSYkjocHdc",
        "colab": {
          "base_uri": "https://localhost:8080/"
        },
        "outputId": "c09ff0bf-cd00-4b25-c10d-2ed25c8c89c7"
      },
      "execution_count": null,
      "outputs": [
        {
          "output_type": "execute_result",
          "data": {
            "text/plain": [
              "(184,)"
            ]
          },
          "metadata": {},
          "execution_count": 19
        }
      ]
    },
    {
      "cell_type": "code",
      "source": [
        "# Both arguments require the same number of samples\n",
        "from sklearn.metrics import confusion_matrix\n",
        "confusion_matrix(y_test, heartdisease_y_pred)"
      ],
      "metadata": {
        "id": "Gd5BcvZH0ABa",
        "colab": {
          "base_uri": "https://localhost:8080/"
        },
        "outputId": "aa8e4341-0680-474d-a7ae-fa15d7ce4240"
      },
      "execution_count": null,
      "outputs": [
        {
          "output_type": "execute_result",
          "data": {
            "text/plain": [
              "array([[71, 11],\n",
              "       [14, 88]])"
            ]
          },
          "metadata": {},
          "execution_count": 20
        }
      ]
    },
    {
      "cell_type": "code",
      "source": [
        "from sklearn.metrics import ConfusionMatrixDisplay\n",
        "cm = confusion_matrix(y_test, heartdisease_y_pred)\n",
        "cm_display = ConfusionMatrixDisplay(cm).plot()\n",
        "\n",
        "#TN | FP\n",
        "#FN | TP\n",
        "\n",
        "#Even though the L-to-R diagonal is high valued, is it acceptable to have 7\n",
        "#false negatives when it means failure to diagnose a real case of heart disease?"
      ],
      "metadata": {
        "id": "Q1gtYijMdpGf",
        "colab": {
          "base_uri": "https://localhost:8080/",
          "height": 279
        },
        "outputId": "bfff233b-24f1-41c6-8ade-b88ebc3b0864"
      },
      "execution_count": null,
      "outputs": [
        {
          "output_type": "display_data",
          "data": {
            "text/plain": [
              "<Figure size 432x288 with 2 Axes>"
            ],
            "image/png": "[encoded data removed]"
          },
          "metadata": {
            "needs_background": "light"
          }
        }
      ]
    },
    {
      "cell_type": "code",
      "source": [
        "accuracy_score(y_test, heartdisease_y_pred) # Classification accuracy = (TP + TN)/(TP + TN + FP + FN)"
      ],
      "metadata": {
        "colab": {
          "base_uri": "https://localhost:8080/"
        },
        "id": "Tu-3yP2Q9e-2",
        "outputId": "dd43e7a7-9294-4add-f82f-58d07cebb24c"
      },
      "execution_count": null,
      "outputs": [
        {
          "output_type": "execute_result",
          "data": {
            "text/plain": [
              "0.8641304347826086"
            ]
          },
          "metadata": {},
          "execution_count": 22
        }
      ]
    },
    {
      "cell_type": "code",
      "source": [
        "1-accuracy_score(y_test, heartdisease_y_pred) #Classification error = (FP + FN)/(TP + TN + FP + FN)"
      ],
      "metadata": {
        "colab": {
          "base_uri": "https://localhost:8080/"
        },
        "id": "IKW0-vxv-INg",
        "outputId": "8daa1545-a229-4959-a93d-3d362131888a"
      },
      "execution_count": null,
      "outputs": [
        {
          "output_type": "execute_result",
          "data": {
            "text/plain": [
              "0.13586956521739135"
            ]
          },
          "metadata": {},
          "execution_count": 23
        }
      ]
    },
    {
      "cell_type": "markdown",
      "source": [
        "Specificity: when the actual value is negative how often is the prediction correct?   TN/(TN+FP)  \n",
        "71/(71+11) = 0.865854"
      ],
      "metadata": {
        "id": "SrJ-WJzh_ZFD"
      }
    },
    {
      "cell_type": "markdown",
      "source": [
        "False Positive Rate: when the actual value is negative, how often is the prediction incorrect? FP/(TN+FP) = 11/(71+11) = 0.134146\n",
        "\n",
        "(1 - Specificity)"
      ],
      "metadata": {
        "id": "p-MDSjyc_wfn"
      }
    },
    {
      "cell_type": "code",
      "source": [
        "#Precision when a positive value is predicted, how often is the prediciton correct? TP/TP + FP\n",
        "precision_score(y_test, heartdisease_y_pred)"
      ],
      "metadata": {
        "colab": {
          "base_uri": "https://localhost:8080/"
        },
        "id": "-6c4GJDlAnfr",
        "outputId": "ca740413-447e-4fdc-ffb2-7f597abde84a"
      },
      "execution_count": null,
      "outputs": [
        {
          "output_type": "execute_result",
          "data": {
            "text/plain": [
              "0.8888888888888888"
            ]
          },
          "metadata": {},
          "execution_count": 24
        }
      ]
    },
    {
      "cell_type": "markdown",
      "source": [
        "The roc curve requires either the probabilities or the non-thresholded decision values from the estimator. Since the logistic regression provides a decision function, we will use it to plot the roc curve:\n",
        "https://scikit-learn.org/stable/auto_examples/miscellaneous/plot_display_object_visualization.html#sphx-glr-auto-examples-miscellaneous-plot-display-object-visualization-py\n",
        "\n",
        "**RocCurveDisplay**"
      ],
      "metadata": {
        "id": "Rz06DyeHj-Hp"
      }
    },
    {
      "cell_type": "code",
      "source": [
        "from sklearn.metrics import roc_curve\n",
        "from sklearn.metrics import RocCurveDisplay\n",
        "y_score = clf.decision_function(X_test)\n",
        "import matplotlib.pyplot as plt\n",
        "\n",
        "\n",
        "fpr, tpr, _ = roc_curve(y_test, y_score, pos_label = clf.classes_[1])\n",
        "roc_auc = auc(fpr, tpr)\n",
        "roc_display = RocCurveDisplay(fpr=fpr, tpr=tpr).plot()\n",
        "plt.plot([0, 1], [0, 1], color=\"orange\", linestyle=\"--\")\n",
        "print(roc_auc)"
      ],
      "metadata": {
        "id": "X3C0cZ_6kKT6",
        "colab": {
          "base_uri": "https://localhost:8080/",
          "height": 297
        },
        "outputId": "8b6d3244-43d5-4310-86ac-e3653e91e2ce"
      },
      "execution_count": null,
      "outputs": [
        {
          "output_type": "stream",
          "name": "stdout",
          "text": [
            "0.9246771879483501\n"
          ]
        },
        {
          "output_type": "display_data",
          "data": {
            "text/plain": [
              "<Figure size 432x288 with 1 Axes>"
            ],
            "image/png": "[encoded data removed]"
          },
          "metadata": {
            "needs_background": "light"
          }
        }
      ]
    },
    {
      "cell_type": "markdown",
      "source": [
        "ROC curves typically feature TPR (Sensitivity; recall; probability of detection) on the Y axis, and FPR (1-Specificity; the probability of false alarm) on the X axis, for all possible classificaton thresholds ranging from 0 to 1. ROC curve visualizes all possible classification thresholds. This means that the top left corner of the plot is the “ideal” point - a false positive rate of zero, and a true positive rate of one. “Steepness” of ROC curves is also important, since it is ideal to maximize the TPR while minimizing the FPR.\n",
        "\n",
        "True Positive Rate = true positives / all positives\n",
        "When the actual classification is positive (Heart Disease in this case), how often does the classifier predict positive? Range [0, 1]\n",
        "\n",
        "False Positive Rate = false positives / all negatives\n",
        "When the actual classification is negative (no Heart Disease in this case), how often does the classifier incorrectly predict positive? Range [0, 1]\n",
        "\n",
        "ROC curves are useful even if your predicted probabilities are not properly calibrated from 0 to 1. What matters is how well the classifier separated the two classes. AUC represents the probability that a classifier will rank a randomly choesn positive observation higher than a randomly chosen negative observation; AUC is a useful metric even when classes are highly unbalanced.\n",
        "\n",
        "Choosing a classification threshold depends on whether you want to minimize FPR or maximize TPR. A low threshhold may result in a lot of False Positives but may be considered desireable if the goal is to collect all true positives and minimize a case where a real instance is misclassified. The ROC curve will help you understand the impact of your choice of threshhold.\n",
        "\n",
        "Here is a link to understan the ROC curve, pointed out by Data School:\n",
        "http://www.navan.name/roc/\n"
      ],
      "metadata": {
        "id": "eVUHUyaZPREQ"
      }
    },
    {
      "cell_type": "code",
      "source": [
        "roc_auc_score(y_test, heartdisease_y_pred)"
      ],
      "metadata": {
        "colab": {
          "base_uri": "https://localhost:8080/"
        },
        "id": "ZOM3035aOkXH",
        "outputId": "39d7bbcb-9b77-4771-9103-5bb2f4aae382"
      },
      "execution_count": null,
      "outputs": [
        {
          "output_type": "execute_result",
          "data": {
            "text/plain": [
              "0.8642993782879005"
            ]
          },
          "metadata": {},
          "execution_count": 26
        }
      ]
    },
    {
      "cell_type": "markdown",
      "source": [
        "**PrecisionRecallDisplay**"
      ],
      "metadata": {
        "id": "ylsSgKtmlrf3"
      }
    },
    {
      "cell_type": "code",
      "source": [
        "from sklearn.metrics import precision_recall_curve\n",
        "from sklearn.metrics import PrecisionRecallDisplay\n",
        "\n",
        "prec, recall, _ = precision_recall_curve(y_test, y_score, pos_label=clf.classes_[1])\n",
        "pr_display = PrecisionRecallDisplay(precision=prec, recall=recall).plot()"
      ],
      "metadata": {
        "id": "4eyvgnrHlyNT",
        "colab": {
          "base_uri": "https://localhost:8080/",
          "height": 279
        },
        "outputId": "1c4df909-492e-42a9-b46d-6d863f52aa79"
      },
      "execution_count": null,
      "outputs": [
        {
          "output_type": "display_data",
          "data": {
            "text/plain": [
              "<Figure size 432x288 with 1 Axes>"
            ],
            "image/png": "[encoded data removed]"
          },
          "metadata": {
            "needs_background": "light"
          }
        }
      ]
    },
    {
      "cell_type": "markdown",
      "source": [
        "Precision-Recall is a useful measure of success of prediction when the classes are very imbalanced. In information retrieval, **precision** is a measure of result relevancy (**out of all predictions**, how many were correctly classified for the given class; TP/(TP+FP), while **recall** (truth as baseline; **out of all actual positives for the given class**, how many were correctly classified; TP/(TP+FN)) is a measure of how many truly relevant results are returned.\n",
        "The precision-recall curve shows the tradeoff between precision and recall for different threshold. A high area under the curve represents both high recall and high precision, where high precision relates to a low false positive rate, and high recall relates to a low false negative rate. High scores for both show that the classifier is returning accurate results (high precision), as well as returning a majority of all positive results (high recall).\n",
        "\n",
        "A system with high recall but low precision returns many results, but most of its predicted labels are incorrect when compared to the training labels. A system with high precision but low recall is just the opposite, returning very few results, but most of its predicted labels are correct when compared to the training labels. An ideal system with high precision and high recall will return many results, with all results labeled correctly.\n",
        "\n"
      ],
      "metadata": {
        "id": "NpuLbfSIQIeN"
      }
    },
    {
      "cell_type": "code",
      "source": [
        "fig, (ax1, ax2) = plt.subplots(1, 2, figsize=(12, 8))\n",
        "\n",
        "roc_display.plot(ax=ax1)\n",
        "pr_display.plot(ax=ax2)\n",
        "plt.show()"
      ],
      "metadata": {
        "id": "nsXWTmirOUNB",
        "colab": {
          "base_uri": "https://localhost:8080/",
          "height": 497
        },
        "outputId": "3fcd3312-d553-40ed-82b0-da23663fcf2a"
      },
      "execution_count": null,
      "outputs": [
        {
          "output_type": "display_data",
          "data": {
            "text/plain": [
              "<Figure size 864x576 with 2 Axes>"
            ],
            "image/png": "[encoded data removed]"
          },
          "metadata": {
            "needs_background": "light"
          }
        }
      ]
    },
    {
      "cell_type": "markdown",
      "source": [
        "**Build a predictive system, courtesy https://www.youtube.com/watch?v=qmqCYC-MBQo by Siddhardhan** and https://machinelearningmastery.com/how-to-connect-model-input-data-with-predictions-for-machine-learning/"
      ],
      "metadata": {
        "id": "7BvjFwSntZbk"
      }
    },
    {
      "cell_type": "code",
      "source": [
        "#array\n",
        "cols = ['Age', 'Sex','ChestPainType', 'RestingBP', 'Cholesterol', 'FastingBS', 'RestingECG', 'MaxHR', 'ExerciseAngina', 'Oldpeak' , 'ST_Slope']\n",
        "\n",
        "# copy/paste just instance values into first array; include parentheses around string\n",
        "df = pd.DataFrame([[44,'M','ASY',150,412,0,'Normal',170,'N',0,'Up']], columns = cols)\n",
        "prediction = clf.predict(df)\n",
        "\n",
        "print(prediction)\n",
        "\n",
        "if prediction[0]==0 :\n",
        "  print('This patient does not have heart disease')\n",
        "else:\n",
        "  print('This patient has heart disease')\n",
        "\n"
      ],
      "metadata": {
        "id": "8ZB_g0wDFZ16",
        "colab": {
          "base_uri": "https://localhost:8080/"
        },
        "outputId": "c81523b9-9fb2-45d6-b2b7-d87fd4212655"
      },
      "execution_count": null,
      "outputs": [
        {
          "output_type": "stream",
          "name": "stdout",
          "text": [
            "[0]\n",
            "This patient does not have heart disease\n"
          ]
        }
      ]
    },
    {
      "cell_type": "markdown",
      "source": [
        "Both KNNImputer and IterativeImputer take a multivariate (multi feature) approach, taking into account correlations between features.\n",
        "\n",
        "https://www.youtube.com/watch?v=NGq8wnH5VSo ColumnTransfrom different processing on selective columns\n",
        "\n",
        "https://www.youtube.com/watch?v=m_qKhnaYZlc  Cannot use categorical variable as direct input for either of these.\n",
        "\n",
        "\n",
        "\n",
        "https://www.youtube.com/watch?v=6as06vtXNL8   fit_transform vs transform\n",
        "\n",
        "https://www.youtube.com/watch?v=yv4adDGcFE8 reason to preprocess in sci-kit learn\n",
        "\n",
        "https://www.youtube.com/watch?v=1Y6O9nCo0-I  make pipeline\n",
        "\n",
        "https://www.youtube.com/watch?v=jzKSAeJpC6s tranformer vs estimator and use in pipeline\n",
        "\n",
        "\n",
        "\n",
        "https://scikit-learn.org/stable/search.html?q=knn+imputer\n",
        "\n",
        "https://scikit-learn.org/stable/auto_examples/impute/plot_missing_values.html?highlight=knn%20imputer\n",
        "\n",
        "https://scikit-learn.org/stable/auto_examples/impute/plot_missing_values.html?highlight=knn%20imputer\n",
        "\n",
        "import numpy as np\n",
        "from sklearn.impute import KNNImputer\n",
        "\n",
        "X = [[1, 2, np.nan], [3, 4, 3], [np.nan, 6, 5], [8, 8, 7]]\n",
        "\n",
        "imputer = KNNImputer(n_neighbors=2)\n",
        "\n",
        "imputer.fit_transform(X)\n"
      ],
      "metadata": {
        "id": "95uN50Ik6u70"
      }
    },
    {
      "cell_type": "markdown",
      "source": [
        "https://www.kaggle.com/code/ashishkumarpanda/heart-failure-prediction-beginner-s-approach-to-ml"
      ],
      "metadata": {
        "id": "Yl_Gn7jzEELW"
      }
    },
    {
      "cell_type": "markdown",
      "source": [
        "Rrnd_clf = RandomForestClassifier(n_estimators=500, random_state=42)\n",
        "rnd_clf.fit(iris[\"data\"], iris[\"target\"])\n",
        "\n",
        "Random Forests are very handy to get a quick understanding of what features actually matter, in particular if you need to perform feature selection.\n",
        "\n",
        "Chapter 7"
      ],
      "metadata": {
        "id": "is0B9KJQAgZK"
      }
    }
  ]
}