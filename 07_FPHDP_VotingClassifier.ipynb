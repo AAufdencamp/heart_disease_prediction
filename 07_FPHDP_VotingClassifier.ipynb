{
  "nbformat": 4,
  "nbformat_minor": 0,
  "metadata": {
    "colab": {
      "provenance": [],
      "authorship_tag": "ABX9TyO9vf8K9YQJFQNii9Stosbc"
    },
    "kernelspec": {
      "name": "python3",
      "display_name": "Python 3"
    },
    "language_info": {
      "name": "python"
    }
  },
  "cells": [
    {
      "cell_type": "markdown",
      "source": [
        "# Introduction 07_FPHDP_VotingClassifier\n"
      ],
      "metadata": {
        "id": "TnsFClGYN_dt"
      }
    },
    {
      "cell_type": "markdown",
      "source": [
        "Our estimator selection logic: predicting category > with labeled data > less than 100K sample > Linear SVC > if not working > KNeighbors Classifier > if not working > SVC or Ensemble Classifiers\n"
      ],
      "metadata": {
        "id": "2E1RsGbLkZUh"
      }
    },
    {
      "cell_type": "markdown",
      "source": [
        "### Import Libraries"
      ],
      "metadata": {
        "id": "vQlzz456ODgp"
      }
    },
    {
      "cell_type": "code",
      "source": [
        "from google.colab import files\n",
        "uploaded = files.upload()"
      ],
      "metadata": {
        "colab": {
          "resources": {
            "http://localhost:8080/nbextensions/google.colab/files.js": {
              "data": "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",
              "ok": true,
              "headers": [
                [
                  "content-type",
                  "application/javascript"
                ]
              ],
              "status": 200,
              "status_text": ""
            }
          },
          "base_uri": "https://localhost:8080/",
          "height": 74
        },
        "id": "aO15K2-_vsDd",
        "outputId": "f3d0b795-ff62-487a-b896-6a9008579492"
      },
      "execution_count": null,
      "outputs": [
        {
          "output_type": "display_data",
          "data": {
            "text/plain": [
              "<IPython.core.display.HTML object>"
            ],
            "text/html": [
              "\n",
              "     <input type=\"file\" id=\"files-4db945c0-009f-485b-9545-3b7b31a2fd07\" name=\"files[]\" multiple disabled\n",
              "        style=\"border:none\" />\n",
              "     <output id=\"result-4db945c0-009f-485b-9545-3b7b31a2fd07\">\n",
              "      Upload widget is only available when the cell has been executed in the\n",
              "      current browser session. Please rerun this cell to enable.\n",
              "      </output>\n",
              "      <script src=\"/nbextensions/google.colab/files.js\"></script> "
            ]
          },
          "metadata": {}
        },
        {
          "output_type": "stream",
          "name": "stdout",
          "text": [
            "Saving heart.csv to heart.csv\n"
          ]
        }
      ]
    },
    {
      "cell_type": "code",
      "source": [
        "import numpy as np\n",
        "import pandas as pd\n",
        "import matplotlib.pyplot as plt\n",
        "import seaborn as sns\n",
        "\n",
        "from sklearn.compose import ColumnTransformer\n",
        "from sklearn.pipeline import Pipeline\n",
        "from sklearn.metrics import mean_squared_error, r2_score, accuracy_score, roc_curve, auc, recall_score, precision_score, roc_auc_score\n",
        "from sklearn.impute import SimpleImputer\n",
        "from sklearn.impute import KNNImputer\n",
        "from sklearn.preprocessing import StandardScaler, OneHotEncoder\n",
        "from sklearn.linear_model import LogisticRegression\n",
        "from sklearn.model_selection import train_test_split, GridSearchCV, cross_val_score\n",
        "from sklearn.ensemble import RandomForestClassifier, VotingClassifier\n",
        "from sklearn.svm import LinearSVC\n",
        "from sklearn.svm import SVC\n",
        "from sklearn import neighbors\n",
        "\n",
        "\n",
        "np.random.seed(42)"
      ],
      "metadata": {
        "id": "K7AieIAhoTz4"
      },
      "execution_count": null,
      "outputs": []
    },
    {
      "cell_type": "code",
      "source": [
        "#Pandas dataframe\n",
        "heart = pd.read_csv(\"/content/heart.csv\")"
      ],
      "metadata": {
        "id": "zVABa-J6onXf"
      },
      "execution_count": null,
      "outputs": []
    },
    {
      "cell_type": "code",
      "source": [
        "#https://www.youtube.com/watch?v=JR92LxKgMBE\n",
        "numeric_features = heart.select_dtypes(include=[np.number])\n",
        "numeric_features.columns"
      ],
      "metadata": {
        "colab": {
          "base_uri": "https://localhost:8080/"
        },
        "id": "l-5W7dw0C44j",
        "outputId": "7b2c84c3-c798-4dc5-d229-232320691038"
      },
      "execution_count": null,
      "outputs": [
        {
          "output_type": "execute_result",
          "data": {
            "text/plain": [
              "Index(['Age', 'RestingBP', 'Cholesterol', 'FastingBS', 'MaxHR', 'Oldpeak',\n",
              "       'HeartDisease'],\n",
              "      dtype='object')"
            ]
          },
          "metadata": {},
          "execution_count": 4
        }
      ]
    },
    {
      "cell_type": "code",
      "source": [
        "categorical_features = heart.select_dtypes(include=[object])\n",
        "categorical_features.columns"
      ],
      "metadata": {
        "colab": {
          "base_uri": "https://localhost:8080/"
        },
        "id": "3YXN_p-PDZLA",
        "outputId": "5a87d22d-e8f8-43b7-db24-23fd50460d29"
      },
      "execution_count": null,
      "outputs": [
        {
          "output_type": "execute_result",
          "data": {
            "text/plain": [
              "Index(['Sex', 'ChestPainType', 'RestingECG', 'ExerciseAngina', 'ST_Slope'], dtype='object')"
            ]
          },
          "metadata": {},
          "execution_count": 5
        }
      ]
    },
    {
      "cell_type": "code",
      "source": [
        "\n",
        "X= heart.drop('HeartDisease', axis=1)\n",
        "\n",
        "y = heart['HeartDisease']"
      ],
      "metadata": {
        "id": "aGYdiJhepiro"
      },
      "execution_count": null,
      "outputs": []
    },
    {
      "cell_type": "code",
      "source": [
        "X.shape\n"
      ],
      "metadata": {
        "colab": {
          "base_uri": "https://localhost:8080/"
        },
        "id": "COv-1f3crHtT",
        "outputId": "7fe648ce-6c7b-482e-b932-f1c1466c1500"
      },
      "execution_count": null,
      "outputs": [
        {
          "output_type": "execute_result",
          "data": {
            "text/plain": [
              "(918, 11)"
            ]
          },
          "metadata": {},
          "execution_count": 7
        }
      ]
    },
    {
      "cell_type": "code",
      "source": [
        "y.shape"
      ],
      "metadata": {
        "colab": {
          "base_uri": "https://localhost:8080/"
        },
        "id": "5vsHS5_6rf_t",
        "outputId": "7483f1ca-01fa-4c0a-f83e-d03e796db3f7"
      },
      "execution_count": null,
      "outputs": [
        {
          "output_type": "execute_result",
          "data": {
            "text/plain": [
              "(918,)"
            ]
          },
          "metadata": {},
          "execution_count": 8
        }
      ]
    },
    {
      "cell_type": "code",
      "source": [
        "# Verifying X has the features I expect\n",
        "X.columns"
      ],
      "metadata": {
        "colab": {
          "base_uri": "https://localhost:8080/"
        },
        "id": "7YJhgrnArYjM",
        "outputId": "feefc1c2-981b-48b6-f934-9aad12c7c02f"
      },
      "execution_count": null,
      "outputs": [
        {
          "output_type": "execute_result",
          "data": {
            "text/plain": [
              "Index(['Age', 'Sex', 'ChestPainType', 'RestingBP', 'Cholesterol', 'FastingBS',\n",
              "       'RestingECG', 'MaxHR', 'ExerciseAngina', 'Oldpeak', 'ST_Slope'],\n",
              "      dtype='object')"
            ]
          },
          "metadata": {},
          "execution_count": 9
        }
      ]
    },
    {
      "cell_type": "code",
      "source": [
        "numeric_features = ['Age', 'RestingBP', 'Cholesterol', 'FastingBS', 'MaxHR', 'Oldpeak']\n",
        "numeric_transformer = Pipeline(\n",
        "    steps=[(\"imputer\", SimpleImputer(strategy=\"median\")), (\"scaler\", StandardScaler())]\n",
        ")\n",
        "\n",
        "categorical_features = ['Sex', 'ChestPainType', 'RestingECG', 'ExerciseAngina', 'ST_Slope']\n",
        "categorical_transformer = OneHotEncoder(handle_unknown=\"ignore\")\n",
        "\n",
        "preprocessor = ColumnTransformer(\n",
        "    transformers=[\n",
        "        (\"num\", numeric_transformer, numeric_features),\n",
        "        (\"cat\", categorical_transformer, categorical_features),\n",
        "    ],\n",
        ")\n",
        "\n",
        "clf_1 = Pipeline(\n",
        "    steps=[(\"preprocessor\", preprocessor), (\"classifier\", LogisticRegression())]\n",
        ")\n",
        "\n",
        "#https://www.youtube.com/watch?v=qmqCYC-MBQo by Siddhardhan: idea to\n",
        "# startify y so that we have balanced response values within test set and\n",
        "# training set.\n",
        "# another resource on stratify y from Data School:\n",
        "# https://www.youtube.com/watch?v=Zcjl8xPLmPw\n",
        "X_train, X_test, y_train, y_test = train_test_split(X, y, test_size=0.2, stratify = y, random_state=42)\n",
        "\n",
        "clf_1.fit(X_train, y_train)\n",
        "\n",
        "#https://www.youtube.com/watch?v=qmqCYC-MBQo by Siddhardhan: looking at accuracy score\n",
        "X_train_prediction = clf_1.predict(X_train)\n",
        "training_data_accuracy = accuracy_score(X_train_prediction, y_train)\n",
        "print(\"Accuracy on training data :\", training_data_accuracy)\n",
        "\n",
        "\n",
        "print(\"model score on test set: %.3f\" % clf_1.score(X_test, y_test))"
      ],
      "metadata": {
        "colab": {
          "base_uri": "https://localhost:8080/"
        },
        "outputId": "9de3d1fc-6a1b-4459-fbab-a3e6625a3e08",
        "id": "nNSeBzr30YTk"
      },
      "execution_count": null,
      "outputs": [
        {
          "output_type": "stream",
          "name": "stdout",
          "text": [
            "Accuracy on training data : 0.8596730245231607\n",
            "model score on test set: 0.886\n"
          ]
        }
      ]
    },
    {
      "cell_type": "markdown",
      "source": [
        "AttributeError: 'LinearSVC' object has no attribute 'predict_proba'\n",
        "\n",
        "\n",
        "LinearSVC_classifier = SklearnClassifier(SVC(kernel='linear',probability=True))\n",
        "\n",
        "https://stackoverflow.com/questions/47312432/attributeerrorlinearsvc-object-has-no-attribute-predict-proba"
      ],
      "metadata": {
        "id": "gxEpdvye925-"
      }
    },
    {
      "cell_type": "code",
      "source": [
        "numeric_features = ['Age', 'RestingBP', 'Cholesterol', 'FastingBS', 'MaxHR', 'Oldpeak']\n",
        "numeric_transformer = Pipeline(\n",
        "    steps=[(\"imputer\", SimpleImputer(strategy=\"median\")), (\"scaler\", StandardScaler())]\n",
        ")\n",
        "\n",
        "categorical_features = ['Sex', 'ChestPainType', 'RestingECG', 'ExerciseAngina', 'ST_Slope']\n",
        "categorical_transformer = OneHotEncoder(handle_unknown=\"ignore\")\n",
        "\n",
        "preprocessor = ColumnTransformer(\n",
        "    transformers=[\n",
        "        (\"num\", numeric_transformer, numeric_features),\n",
        "        (\"cat\", categorical_transformer, categorical_features),\n",
        "    ],\n",
        ")\n",
        "\n",
        "#clf_2 = Pipeline(\n",
        "   # steps=[(\"preprocessor\", preprocessor), (\"classifier\", LinearSVC(dual = False))]\n",
        "#)\n",
        "\n",
        "clf_2 = Pipeline(\n",
        "    steps=[(\"preprocessor\", preprocessor), (\"classifier\", SVC(kernel='linear', probability=True))]\n",
        ")\n",
        "\n",
        "#https://www.youtube.com/watch?v=qmqCYC-MBQo by Siddhardhan: idea to\n",
        "# startify y so that we have balanced response values within test set and\n",
        "# training set.\n",
        "# another resource on stratify y from Data School:\n",
        "# https://www.youtube.com/watch?v=Zcjl8xPLmPw\n",
        "X_train, X_test, y_train, y_test = train_test_split(X, y, test_size=0.2, stratify = y, random_state=42)\n",
        "\n",
        "clf_2.fit(X_train, y_train)\n",
        "\n",
        "#https://www.youtube.com/watch?v=qmqCYC-MBQo by Siddhardhan: looking at accuracy score\n",
        "X_train_prediction = clf_2.predict(X_train)\n",
        "training_data_accuracy = accuracy_score(X_train_prediction, y_train)\n",
        "print(\"Accuracy on training data :\", training_data_accuracy)\n",
        "\n",
        "\n",
        "print(\"model score on test set: %.3f\" % clf_2.score(X_test, y_test))"
      ],
      "metadata": {
        "colab": {
          "base_uri": "https://localhost:8080/"
        },
        "id": "r-Co6ww-eb0Z",
        "outputId": "df6ba489-7d3b-47c3-a61c-74c904e3699d"
      },
      "execution_count": null,
      "outputs": [
        {
          "output_type": "stream",
          "name": "stdout",
          "text": [
            "Accuracy on training data : 0.8637602179836512\n",
            "model score on test set: 0.880\n"
          ]
        }
      ]
    },
    {
      "cell_type": "code",
      "source": [
        "numeric_features = ['Age', 'RestingBP', 'Cholesterol', 'FastingBS', 'MaxHR', 'Oldpeak']\n",
        "numeric_transformer = Pipeline(\n",
        "    steps=[(\"imputer\", SimpleImputer(strategy=\"median\")), (\"scaler\", StandardScaler())]\n",
        ")\n",
        "\n",
        "categorical_features = ['Sex', 'ChestPainType', 'RestingECG', 'ExerciseAngina', 'ST_Slope']\n",
        "categorical_transformer = OneHotEncoder(handle_unknown=\"ignore\")\n",
        "\n",
        "preprocessor = ColumnTransformer(\n",
        "    transformers=[\n",
        "        (\"num\", numeric_transformer, numeric_features),\n",
        "        (\"cat\", categorical_transformer, categorical_features),\n",
        "    ],\n",
        ")\n",
        "\n",
        "clf_3 = Pipeline(\n",
        "    steps=[(\"preprocessor\", preprocessor), (\"classifier\", neighbors.KNeighborsClassifier())]\n",
        ")\n",
        "\n",
        "#https://www.youtube.com/watch?v=qmqCYC-MBQo by Siddhardhan: idea to\n",
        "# startify y so that we have balanced response values within test set and\n",
        "# training set.\n",
        "# another resource on stratify y from Data School:\n",
        "# https://www.youtube.com/watch?v=Zcjl8xPLmPw\n",
        "X_train, X_test, y_train, y_test = train_test_split(X, y, test_size=0.2, stratify = y, random_state=42)\n",
        "\n",
        "clf_3.fit(X_train, y_train)\n",
        "\n",
        "#https://www.youtube.com/watch?v=qmqCYC-MBQo by Siddhardhan: looking at accuracy score\n",
        "X_train_prediction = clf_3.predict(X_train)\n",
        "training_data_accuracy = accuracy_score(X_train_prediction, y_train)\n",
        "print(\"Accuracy on training data :\", training_data_accuracy)\n",
        "\n",
        "\n",
        "print(\"model score on test set: %.3f\" % clf_3.score(X_test, y_test))"
      ],
      "metadata": {
        "colab": {
          "base_uri": "https://localhost:8080/"
        },
        "outputId": "885c3470-65a4-4011-8a4d-748719f529a3",
        "id": "sGRueOGY2K94"
      },
      "execution_count": null,
      "outputs": [
        {
          "output_type": "stream",
          "name": "stdout",
          "text": [
            "Accuracy on training data : 0.8814713896457765\n",
            "model score on test set: 0.897\n"
          ]
        }
      ]
    },
    {
      "cell_type": "code",
      "source": [],
      "metadata": {
        "id": "zNeT7UxS-uZK"
      },
      "execution_count": null,
      "outputs": []
    },
    {
      "cell_type": "code",
      "source": [
        "missingvalue = ['RestingBP', 'Cholesterol']\n",
        "mvtransformer = Pipeline(\n",
        "    steps=[(\"imputer\", KNNImputer(missing_values=0, n_neighbors=5)), (\"scaler\", StandardScaler())]\n",
        ")\n",
        "\n",
        "numregular = ['Age', 'FastingBS', 'MaxHR', 'Oldpeak']\n",
        "numregulartransformer = Pipeline(\n",
        "    steps=[(\"imputer\", SimpleImputer(strategy=\"median\")), (\"scaler\", StandardScaler())]\n",
        ")\n",
        "\n",
        "categorical_features = ['Sex', 'ChestPainType', 'RestingECG', 'ExerciseAngina', 'ST_Slope']\n",
        "categorical_transformer = OneHotEncoder(handle_unknown=\"ignore\")\n",
        "\n",
        "preprocessor = ColumnTransformer(\n",
        "    transformers=[\n",
        "        (\"nummv\", mvtransformer, missingvalue),\n",
        "        (\"numreg\", numregulartransformer, numregular),\n",
        "        (\"cat\", categorical_transformer, categorical_features),\n",
        "    ],\n",
        ")\n",
        "\n",
        "clf_4 = Pipeline(\n",
        "    steps=[(\"preprocessor\", preprocessor), (\"classifier\", RandomForestClassifier(n_estimators=100))]\n",
        ")\n",
        "\n",
        "#https://www.youtube.com/watch?v=qmqCYC-MBQo by Siddhardhan: idea to\n",
        "# startify y so that we have a balanced response values within test set and\n",
        "# training set.\n",
        "X_train, X_test, y_train, y_test = train_test_split(X, y, test_size=0.2, stratify = y, random_state=42)\n",
        "\n",
        "clf_4.fit(X_train, y_train)\n",
        "\n",
        "#https://www.youtube.com/watch?v=qmqCYC-MBQo by Siddhardhan: looking at accuracy score\n",
        "X_train_prediction = clf_4.predict(X_train)\n",
        "training_data_accuracy = accuracy_score(X_train_prediction, y_train)\n",
        "print(\"Accuracy on training data :\", training_data_accuracy)\n",
        "\n",
        "\n",
        "print(\"model score on test set: %.3f\" % clf_4.score(X_test, y_test))"
      ],
      "metadata": {
        "colab": {
          "base_uri": "https://localhost:8080/"
        },
        "outputId": "8d2648c2-08a0-4d89-e379-62bebdca7997",
        "id": "rqohipUB-4Is"
      },
      "execution_count": null,
      "outputs": [
        {
          "output_type": "stream",
          "name": "stdout",
          "text": [
            "Accuracy on training data : 1.0\n",
            "model score on test set: 0.880\n"
          ]
        }
      ]
    },
    {
      "cell_type": "markdown",
      "source": [
        "https://towardsdatascience.com/one-common-misconception-about-random-forest-and-overfitting-47cae2e2c23b"
      ],
      "metadata": {
        "id": "me9FjuGqKJbf"
      }
    },
    {
      "cell_type": "code",
      "source": [
        "vc=VotingClassifier([('clf1', clf_1),('clf2', clf_2),('clf3', clf_3), ('clf4', clf_4)])\n",
        "\n",
        "X_train, X_test, y_train, y_test = train_test_split(X, y, test_size=0.2, stratify = y, random_state=42)\n",
        "\n",
        "vc.fit(X_train, y_train)\n",
        "\n",
        "#https://www.youtube.com/watch?v=qmqCYC-MBQo by Siddhardhan: looking at accuracy score\n",
        "X_train_prediction = vc.predict(X_train)\n",
        "training_data_accuracy = accuracy_score(X_train_prediction, y_train)\n",
        "print(\"Accuracy on training data :\", training_data_accuracy)\n",
        "\n",
        "\n",
        "print(\"model score on test set: %.3f\" % vc.score(X_test, y_test))"
      ],
      "metadata": {
        "colab": {
          "base_uri": "https://localhost:8080/"
        },
        "id": "-bYwySnM6DEG",
        "outputId": "e262bab4-f86e-41d4-ae61-6d546cb0f8a1"
      },
      "execution_count": null,
      "outputs": [
        {
          "output_type": "stream",
          "name": "stdout",
          "text": [
            "Accuracy on training data : 0.8828337874659401\n",
            "model score on test set: 0.908\n"
          ]
        }
      ]
    },
    {
      "cell_type": "code",
      "source": [
        "param_grid = {\n",
        "    'voting': ['hard', 'soft']}\n",
        "\n",
        "\n",
        "\n",
        "grid_search = GridSearchCV(vc, param_grid, cv=10)\n",
        "grid_search"
      ],
      "metadata": {
        "colab": {
          "base_uri": "https://localhost:8080/"
        },
        "id": "wHiBaV0wDfTX",
        "outputId": "efdaa9ae-1364-4083-e8cc-42f7c3ebb283"
      },
      "execution_count": null,
      "outputs": [
        {
          "output_type": "execute_result",
          "data": {
            "text/plain": [
              "GridSearchCV(cv=10,\n",
              "             estimator=VotingClassifier(estimators=[('clf1',\n",
              "                                                     Pipeline(steps=[('preprocessor',\n",
              "                                                                      ColumnTransformer(transformers=[('num',\n",
              "                                                                                                       Pipeline(steps=[('imputer',\n",
              "                                                                                                                        SimpleImputer(strategy='median')),\n",
              "                                                                                                                       ('scaler',\n",
              "                                                                                                                        StandardScaler())]),\n",
              "                                                                                                       ['Age',\n",
              "                                                                                                        'RestingBP',\n",
              "                                                                                                        'Cholesterol',\n",
              "                                                                                                        'FastingBS',\n",
              "                                                                                                        'MaxHR',\n",
              "                                                                                                        'Oldpeak']),\n",
              "                                                                                                      ('cat',\n",
              "                                                                                                       OneHotEncoder(handle_unknown='ignore'),\n",
              "                                                                                                       ['Sex',\n",
              "                                                                                                        'Che...\n",
              "                                                                                                        'Cholesterol']),\n",
              "                                                                                                      ('numreg',\n",
              "                                                                                                       Pipeline(steps=[('imputer',\n",
              "                                                                                                                        SimpleImputer(strategy='median')),\n",
              "                                                                                                                       ('scaler',\n",
              "                                                                                                                        StandardScaler())]),\n",
              "                                                                                                       ['Age',\n",
              "                                                                                                        'FastingBS',\n",
              "                                                                                                        'MaxHR',\n",
              "                                                                                                        'Oldpeak']),\n",
              "                                                                                                      ('cat',\n",
              "                                                                                                       OneHotEncoder(handle_unknown='ignore'),\n",
              "                                                                                                       ['Sex',\n",
              "                                                                                                        'ChestPainType',\n",
              "                                                                                                        'RestingECG',\n",
              "                                                                                                        'ExerciseAngina',\n",
              "                                                                                                        'ST_Slope'])])),\n",
              "                                                                     ('classifier',\n",
              "                                                                      RandomForestClassifier())]))]),\n",
              "             param_grid={'voting': ['hard', 'soft']})"
            ]
          },
          "metadata": {},
          "execution_count": 15
        }
      ]
    },
    {
      "cell_type": "code",
      "source": [
        "grid_search.estimator.get_params().keys()"
      ],
      "metadata": {
        "id": "07knmO_U6jsk",
        "colab": {
          "base_uri": "https://localhost:8080/"
        },
        "outputId": "a091a348-1bc5-4557-af03-fc7eaa0c6385"
      },
      "execution_count": null,
      "outputs": [
        {
          "output_type": "execute_result",
          "data": {
            "text/plain": [
              "dict_keys(['estimators', 'flatten_transform', 'n_jobs', 'verbose', 'voting', 'weights', 'clf1', 'clf2', 'clf3', 'clf4', 'clf1__memory', 'clf1__steps', 'clf1__verbose', 'clf1__preprocessor', 'clf1__classifier', 'clf1__preprocessor__n_jobs', 'clf1__preprocessor__remainder', 'clf1__preprocessor__sparse_threshold', 'clf1__preprocessor__transformer_weights', 'clf1__preprocessor__transformers', 'clf1__preprocessor__verbose', 'clf1__preprocessor__verbose_feature_names_out', 'clf1__preprocessor__num', 'clf1__preprocessor__cat', 'clf1__preprocessor__num__memory', 'clf1__preprocessor__num__steps', 'clf1__preprocessor__num__verbose', 'clf1__preprocessor__num__imputer', 'clf1__preprocessor__num__scaler', 'clf1__preprocessor__num__imputer__add_indicator', 'clf1__preprocessor__num__imputer__copy', 'clf1__preprocessor__num__imputer__fill_value', 'clf1__preprocessor__num__imputer__missing_values', 'clf1__preprocessor__num__imputer__strategy', 'clf1__preprocessor__num__imputer__verbose', 'clf1__preprocessor__num__scaler__copy', 'clf1__preprocessor__num__scaler__with_mean', 'clf1__preprocessor__num__scaler__with_std', 'clf1__preprocessor__cat__categories', 'clf1__preprocessor__cat__drop', 'clf1__preprocessor__cat__dtype', 'clf1__preprocessor__cat__handle_unknown', 'clf1__preprocessor__cat__sparse', 'clf1__classifier__C', 'clf1__classifier__class_weight', 'clf1__classifier__dual', 'clf1__classifier__fit_intercept', 'clf1__classifier__intercept_scaling', 'clf1__classifier__l1_ratio', 'clf1__classifier__max_iter', 'clf1__classifier__multi_class', 'clf1__classifier__n_jobs', 'clf1__classifier__penalty', 'clf1__classifier__random_state', 'clf1__classifier__solver', 'clf1__classifier__tol', 'clf1__classifier__verbose', 'clf1__classifier__warm_start', 'clf2__memory', 'clf2__steps', 'clf2__verbose', 'clf2__preprocessor', 'clf2__classifier', 'clf2__preprocessor__n_jobs', 'clf2__preprocessor__remainder', 'clf2__preprocessor__sparse_threshold', 'clf2__preprocessor__transformer_weights', 'clf2__preprocessor__transformers', 'clf2__preprocessor__verbose', 'clf2__preprocessor__verbose_feature_names_out', 'clf2__preprocessor__num', 'clf2__preprocessor__cat', 'clf2__preprocessor__num__memory', 'clf2__preprocessor__num__steps', 'clf2__preprocessor__num__verbose', 'clf2__preprocessor__num__imputer', 'clf2__preprocessor__num__scaler', 'clf2__preprocessor__num__imputer__add_indicator', 'clf2__preprocessor__num__imputer__copy', 'clf2__preprocessor__num__imputer__fill_value', 'clf2__preprocessor__num__imputer__missing_values', 'clf2__preprocessor__num__imputer__strategy', 'clf2__preprocessor__num__imputer__verbose', 'clf2__preprocessor__num__scaler__copy', 'clf2__preprocessor__num__scaler__with_mean', 'clf2__preprocessor__num__scaler__with_std', 'clf2__preprocessor__cat__categories', 'clf2__preprocessor__cat__drop', 'clf2__preprocessor__cat__dtype', 'clf2__preprocessor__cat__handle_unknown', 'clf2__preprocessor__cat__sparse', 'clf2__classifier__C', 'clf2__classifier__break_ties', 'clf2__classifier__cache_size', 'clf2__classifier__class_weight', 'clf2__classifier__coef0', 'clf2__classifier__decision_function_shape', 'clf2__classifier__degree', 'clf2__classifier__gamma', 'clf2__classifier__kernel', 'clf2__classifier__max_iter', 'clf2__classifier__probability', 'clf2__classifier__random_state', 'clf2__classifier__shrinking', 'clf2__classifier__tol', 'clf2__classifier__verbose', 'clf3__memory', 'clf3__steps', 'clf3__verbose', 'clf3__preprocessor', 'clf3__classifier', 'clf3__preprocessor__n_jobs', 'clf3__preprocessor__remainder', 'clf3__preprocessor__sparse_threshold', 'clf3__preprocessor__transformer_weights', 'clf3__preprocessor__transformers', 'clf3__preprocessor__verbose', 'clf3__preprocessor__verbose_feature_names_out', 'clf3__preprocessor__num', 'clf3__preprocessor__cat', 'clf3__preprocessor__num__memory', 'clf3__preprocessor__num__steps', 'clf3__preprocessor__num__verbose', 'clf3__preprocessor__num__imputer', 'clf3__preprocessor__num__scaler', 'clf3__preprocessor__num__imputer__add_indicator', 'clf3__preprocessor__num__imputer__copy', 'clf3__preprocessor__num__imputer__fill_value', 'clf3__preprocessor__num__imputer__missing_values', 'clf3__preprocessor__num__imputer__strategy', 'clf3__preprocessor__num__imputer__verbose', 'clf3__preprocessor__num__scaler__copy', 'clf3__preprocessor__num__scaler__with_mean', 'clf3__preprocessor__num__scaler__with_std', 'clf3__preprocessor__cat__categories', 'clf3__preprocessor__cat__drop', 'clf3__preprocessor__cat__dtype', 'clf3__preprocessor__cat__handle_unknown', 'clf3__preprocessor__cat__sparse', 'clf3__classifier__algorithm', 'clf3__classifier__leaf_size', 'clf3__classifier__metric', 'clf3__classifier__metric_params', 'clf3__classifier__n_jobs', 'clf3__classifier__n_neighbors', 'clf3__classifier__p', 'clf3__classifier__weights', 'clf4__memory', 'clf4__steps', 'clf4__verbose', 'clf4__preprocessor', 'clf4__classifier', 'clf4__preprocessor__n_jobs', 'clf4__preprocessor__remainder', 'clf4__preprocessor__sparse_threshold', 'clf4__preprocessor__transformer_weights', 'clf4__preprocessor__transformers', 'clf4__preprocessor__verbose', 'clf4__preprocessor__verbose_feature_names_out', 'clf4__preprocessor__nummv', 'clf4__preprocessor__numreg', 'clf4__preprocessor__cat', 'clf4__preprocessor__nummv__memory', 'clf4__preprocessor__nummv__steps', 'clf4__preprocessor__nummv__verbose', 'clf4__preprocessor__nummv__imputer', 'clf4__preprocessor__nummv__scaler', 'clf4__preprocessor__nummv__imputer__add_indicator', 'clf4__preprocessor__nummv__imputer__copy', 'clf4__preprocessor__nummv__imputer__metric', 'clf4__preprocessor__nummv__imputer__missing_values', 'clf4__preprocessor__nummv__imputer__n_neighbors', 'clf4__preprocessor__nummv__imputer__weights', 'clf4__preprocessor__nummv__scaler__copy', 'clf4__preprocessor__nummv__scaler__with_mean', 'clf4__preprocessor__nummv__scaler__with_std', 'clf4__preprocessor__numreg__memory', 'clf4__preprocessor__numreg__steps', 'clf4__preprocessor__numreg__verbose', 'clf4__preprocessor__numreg__imputer', 'clf4__preprocessor__numreg__scaler', 'clf4__preprocessor__numreg__imputer__add_indicator', 'clf4__preprocessor__numreg__imputer__copy', 'clf4__preprocessor__numreg__imputer__fill_value', 'clf4__preprocessor__numreg__imputer__missing_values', 'clf4__preprocessor__numreg__imputer__strategy', 'clf4__preprocessor__numreg__imputer__verbose', 'clf4__preprocessor__numreg__scaler__copy', 'clf4__preprocessor__numreg__scaler__with_mean', 'clf4__preprocessor__numreg__scaler__with_std', 'clf4__preprocessor__cat__categories', 'clf4__preprocessor__cat__drop', 'clf4__preprocessor__cat__dtype', 'clf4__preprocessor__cat__handle_unknown', 'clf4__preprocessor__cat__sparse', 'clf4__classifier__bootstrap', 'clf4__classifier__ccp_alpha', 'clf4__classifier__class_weight', 'clf4__classifier__criterion', 'clf4__classifier__max_depth', 'clf4__classifier__max_features', 'clf4__classifier__max_leaf_nodes', 'clf4__classifier__max_samples', 'clf4__classifier__min_impurity_decrease', 'clf4__classifier__min_samples_leaf', 'clf4__classifier__min_samples_split', 'clf4__classifier__min_weight_fraction_leaf', 'clf4__classifier__n_estimators', 'clf4__classifier__n_jobs', 'clf4__classifier__oob_score', 'clf4__classifier__random_state', 'clf4__classifier__verbose', 'clf4__classifier__warm_start'])"
            ]
          },
          "metadata": {},
          "execution_count": 16
        }
      ]
    },
    {
      "cell_type": "code",
      "source": [
        "grid_search.fit(X_train, y_train)\n",
        "\n",
        "print(\"Best params:\")\n",
        "print(grid_search.best_params_)"
      ],
      "metadata": {
        "id": "OFlGcw6sDxos",
        "colab": {
          "base_uri": "https://localhost:8080/"
        },
        "outputId": "385d1910-05ee-4aa7-9b2f-30c4cbf861b8"
      },
      "execution_count": null,
      "outputs": [
        {
          "output_type": "stream",
          "name": "stdout",
          "text": [
            "Best params:\n",
            "{'voting': 'soft'}\n"
          ]
        }
      ]
    },
    {
      "cell_type": "code",
      "source": [
        "print(f\"Internal CV score: {grid_search.best_score_:.3f}\")"
      ],
      "metadata": {
        "id": "IhmP4NiGEBxu",
        "colab": {
          "base_uri": "https://localhost:8080/"
        },
        "outputId": "9e22376b-3752-4ef9-b3d9-60cf48e4b253"
      },
      "execution_count": null,
      "outputs": [
        {
          "output_type": "stream",
          "name": "stdout",
          "text": [
            "Internal CV score: 0.864\n"
          ]
        }
      ]
    },
    {
      "cell_type": "code",
      "source": [
        "import pandas as pd\n",
        "\n",
        "cv_results = pd.DataFrame(grid_search.cv_results_)\n",
        "cv_results = cv_results.sort_values(\"mean_test_score\", ascending=False)\n",
        "cv_results.head()"
      ],
      "metadata": {
        "id": "rsImmDWsEM2e",
        "colab": {
          "base_uri": "https://localhost:8080/",
          "height": 211
        },
        "outputId": "b2fa82c9-894b-43be-a20c-24ba4085e6b2"
      },
      "execution_count": null,
      "outputs": [
        {
          "output_type": "execute_result",
          "data": {
            "text/plain": [
              "   mean_fit_time  std_fit_time  mean_score_time  std_score_time param_voting  \\\n",
              "1       0.709259      0.133894         0.098575        0.042776         soft   \n",
              "0       0.896576      0.171648         0.128996        0.048451         hard   \n",
              "\n",
              "               params  split0_test_score  split1_test_score  \\\n",
              "1  {'voting': 'soft'}           0.905405           0.918919   \n",
              "0  {'voting': 'hard'}           0.878378           0.905405   \n",
              "\n",
              "   split2_test_score  split3_test_score  split4_test_score  split5_test_score  \\\n",
              "1           0.837838           0.905405           0.876712           0.863014   \n",
              "0           0.837838           0.878378           0.849315           0.835616   \n",
              "\n",
              "   split6_test_score  split7_test_score  split8_test_score  split9_test_score  \\\n",
              "1           0.835616           0.876712           0.808219           0.808219   \n",
              "0           0.849315           0.876712           0.808219           0.780822   \n",
              "\n",
              "   mean_test_score  std_test_score  rank_test_score  \n",
              "1         0.863606        0.038053                1  \n",
              "0         0.850000        0.035044                2  "
            ],
            "text/html": [
              "\n",
              "  <div id=\"df-a7781c9f-47cb-4c4b-8c81-f944812b5e67\">\n",
              "    <div class=\"colab-df-container\">\n",
              "      <div>\n",
              "<style scoped>\n",
              "    .dataframe tbody tr th:only-of-type {\n",
              "        vertical-align: middle;\n",
              "    }\n",
              "\n",
              "    .dataframe tbody tr th {\n",
              "        vertical-align: top;\n",
              "    }\n",
              "\n",
              "    .dataframe thead th {\n",
              "        text-align: right;\n",
              "    }\n",
              "</style>\n",
              "<table border=\"1\" class=\"dataframe\">\n",
              "  <thead>\n",
              "    <tr style=\"text-align: right;\">\n",
              "      <th></th>\n",
              "      <th>mean_fit_time</th>\n",
              "      <th>std_fit_time</th>\n",
              "      <th>mean_score_time</th>\n",
              "      <th>std_score_time</th>\n",
              "      <th>param_voting</th>\n",
              "      <th>params</th>\n",
              "      <th>split0_test_score</th>\n",
              "      <th>split1_test_score</th>\n",
              "      <th>split2_test_score</th>\n",
              "      <th>split3_test_score</th>\n",
              "      <th>split4_test_score</th>\n",
              "      <th>split5_test_score</th>\n",
              "      <th>split6_test_score</th>\n",
              "      <th>split7_test_score</th>\n",
              "      <th>split8_test_score</th>\n",
              "      <th>split9_test_score</th>\n",
              "      <th>mean_test_score</th>\n",
              "      <th>std_test_score</th>\n",
              "      <th>rank_test_score</th>\n",
              "    </tr>\n",
              "  </thead>\n",
              "  <tbody>\n",
              "    <tr>\n",
              "      <th>1</th>\n",
              "      <td>0.709259</td>\n",
              "      <td>0.133894</td>\n",
              "      <td>0.098575</td>\n",
              "      <td>0.042776</td>\n",
              "      <td>soft</td>\n",
              "      <td>{'voting': 'soft'}</td>\n",
              "      <td>0.905405</td>\n",
              "      <td>0.918919</td>\n",
              "      <td>0.837838</td>\n",
              "      <td>0.905405</td>\n",
              "      <td>0.876712</td>\n",
              "      <td>0.863014</td>\n",
              "      <td>0.835616</td>\n",
              "      <td>0.876712</td>\n",
              "      <td>0.808219</td>\n",
              "      <td>0.808219</td>\n",
              "      <td>0.863606</td>\n",
              "      <td>0.038053</td>\n",
              "      <td>1</td>\n",
              "    </tr>\n",
              "    <tr>\n",
              "      <th>0</th>\n",
              "      <td>0.896576</td>\n",
              "      <td>0.171648</td>\n",
              "      <td>0.128996</td>\n",
              "      <td>0.048451</td>\n",
              "      <td>hard</td>\n",
              "      <td>{'voting': 'hard'}</td>\n",
              "      <td>0.878378</td>\n",
              "      <td>0.905405</td>\n",
              "      <td>0.837838</td>\n",
              "      <td>0.878378</td>\n",
              "      <td>0.849315</td>\n",
              "      <td>0.835616</td>\n",
              "      <td>0.849315</td>\n",
              "      <td>0.876712</td>\n",
              "      <td>0.808219</td>\n",
              "      <td>0.780822</td>\n",
              "      <td>0.850000</td>\n",
              "      <td>0.035044</td>\n",
              "      <td>2</td>\n",
              "    </tr>\n",
              "  </tbody>\n",
              "</table>\n",
              "</div>\n",
              "      <button class=\"colab-df-convert\" onclick=\"convertToInteractive('df-a7781c9f-47cb-4c4b-8c81-f944812b5e67')\"\n",
              "              title=\"Convert this dataframe to an interactive table.\"\n",
              "              style=\"display:none;\">\n",
              "        \n",
              "  <svg xmlns=\"http://www.w3.org/2000/svg\" height=\"24px\"viewBox=\"0 0 24 24\"\n",
              "       width=\"24px\">\n",
              "    <path d=\"M0 0h24v24H0V0z\" fill=\"none\"/>\n",
              "    <path d=\"M18.56 5.44l.94 2.06.94-2.06 2.06-.94-2.06-.94-.94-2.06-.94 2.06-2.06.94zm-11 1L8.5 8.5l.94-2.06 2.06-.94-2.06-.94L8.5 2.5l-.94 2.06-2.06.94zm10 10l.94 2.06.94-2.06 2.06-.94-2.06-.94-.94-2.06-.94 2.06-2.06.94z\"/><path d=\"M17.41 7.96l-1.37-1.37c-.4-.4-.92-.59-1.43-.59-.52 0-1.04.2-1.43.59L10.3 9.45l-7.72 7.72c-.78.78-.78 2.05 0 2.83L4 21.41c.39.39.9.59 1.41.59.51 0 1.02-.2 1.41-.59l7.78-7.78 2.81-2.81c.8-.78.8-2.07 0-2.86zM5.41 20L4 18.59l7.72-7.72 1.47 1.35L5.41 20z\"/>\n",
              "  </svg>\n",
              "      </button>\n",
              "      \n",
              "  <style>\n",
              "    .colab-df-container {\n",
              "      display:flex;\n",
              "      flex-wrap:wrap;\n",
              "      gap: 12px;\n",
              "    }\n",
              "\n",
              "    .colab-df-convert {\n",
              "      background-color: #E8F0FE;\n",
              "      border: none;\n",
              "      border-radius: 50%;\n",
              "      cursor: pointer;\n",
              "      display: none;\n",
              "      fill: #1967D2;\n",
              "      height: 32px;\n",
              "      padding: 0 0 0 0;\n",
              "      width: 32px;\n",
              "    }\n",
              "\n",
              "    .colab-df-convert:hover {\n",
              "      background-color: #E2EBFA;\n",
              "      box-shadow: 0px 1px 2px rgba(60, 64, 67, 0.3), 0px 1px 3px 1px rgba(60, 64, 67, 0.15);\n",
              "      fill: #174EA6;\n",
              "    }\n",
              "\n",
              "    [theme=dark] .colab-df-convert {\n",
              "      background-color: #3B4455;\n",
              "      fill: #D2E3FC;\n",
              "    }\n",
              "\n",
              "    [theme=dark] .colab-df-convert:hover {\n",
              "      background-color: #434B5C;\n",
              "      box-shadow: 0px 1px 3px 1px rgba(0, 0, 0, 0.15);\n",
              "      filter: drop-shadow(0px 1px 2px rgba(0, 0, 0, 0.3));\n",
              "      fill: #FFFFFF;\n",
              "    }\n",
              "  </style>\n",
              "\n",
              "      <script>\n",
              "        const buttonEl =\n",
              "          document.querySelector('#df-a7781c9f-47cb-4c4b-8c81-f944812b5e67 button.colab-df-convert');\n",
              "        buttonEl.style.display =\n",
              "          google.colab.kernel.accessAllowed ? 'block' : 'none';\n",
              "\n",
              "        async function convertToInteractive(key) {\n",
              "          const element = document.querySelector('#df-a7781c9f-47cb-4c4b-8c81-f944812b5e67');\n",
              "          const dataTable =\n",
              "            await google.colab.kernel.invokeFunction('convertToInteractive',\n",
              "                                                     [key], {});\n",
              "          if (!dataTable) return;\n",
              "\n",
              "          const docLinkHtml = 'Like what you see? Visit the ' +\n",
              "            '<a target=\"_blank\" href=https://colab.research.google.com/notebooks/data_table.ipynb>data table notebook</a>'\n",
              "            + ' to learn more about interactive tables.';\n",
              "          element.innerHTML = '';\n",
              "          dataTable['output_type'] = 'display_data';\n",
              "          await google.colab.output.renderOutput(dataTable, element);\n",
              "          const docLink = document.createElement('div');\n",
              "          docLink.innerHTML = docLinkHtml;\n",
              "          element.appendChild(docLink);\n",
              "        }\n",
              "      </script>\n",
              "    </div>\n",
              "  </div>\n",
              "  "
            ]
          },
          "metadata": {},
          "execution_count": 19
        }
      ]
    },
    {
      "cell_type": "markdown",
      "source": [
        "'The best hyper-parameters have been used to re-fit a final model on the full training set. We can evaluate that final model on held out test data that was not used for hyperparameter tuning.'"
      ],
      "metadata": {
        "id": "ajWh6396EasX"
      }
    },
    {
      "cell_type": "code",
      "source": [
        "print(\n",
        "    (\n",
        "        \"best VotingClassifier from grid search: %.3f\"\n",
        "        % grid_search.score(X_test, y_test)\n",
        "    )\n",
        ")"
      ],
      "metadata": {
        "id": "8CYhYJcVEg2a",
        "colab": {
          "base_uri": "https://localhost:8080/"
        },
        "outputId": "ab3f691e-40c9-42cc-f9f2-a38bf30af1d1"
      },
      "execution_count": null,
      "outputs": [
        {
          "output_type": "stream",
          "name": "stdout",
          "text": [
            "best VotingClassifier from grid search: 0.891\n"
          ]
        }
      ]
    },
    {
      "cell_type": "markdown",
      "source": [
        "**https://scikit-learn.org/stable/auto_examples/compose/plot_column_transformer_mixed_types.html#sphx-glr-auto-examples-compose-plot-column-transformer-mixed-types-py**\n",
        "\n",
        "Above code and text can be found in the link to the Column Transformer example in Sci-Kit Learn."
      ],
      "metadata": {
        "id": "6QDtGglHEzES"
      }
    },
    {
      "cell_type": "code",
      "source": [
        "heartdisease_y_pred = vc.predict(X_test)\n",
        "heartdisease_y_pred"
      ],
      "metadata": {
        "id": "D8c562VAKvDm",
        "colab": {
          "base_uri": "https://localhost:8080/"
        },
        "outputId": "243c15dd-1a70-4bf0-e23a-143397d56703"
      },
      "execution_count": null,
      "outputs": [
        {
          "output_type": "execute_result",
          "data": {
            "text/plain": [
              "array([1, 0, 1, 1, 0, 0, 0, 1, 0, 1, 1, 0, 0, 0, 0, 1, 0, 1, 0, 1, 0, 1,\n",
              "       0, 0, 1, 1, 0, 1, 1, 0, 0, 1, 0, 0, 1, 1, 1, 1, 0, 1, 1, 0, 1, 0,\n",
              "       1, 1, 1, 0, 1, 1, 1, 0, 0, 0, 1, 0, 1, 0, 0, 0, 0, 1, 0, 1, 0, 0,\n",
              "       1, 1, 0, 0, 0, 1, 0, 1, 0, 1, 1, 1, 1, 1, 1, 1, 1, 1, 1, 0, 1, 1,\n",
              "       0, 1, 0, 1, 0, 0, 1, 1, 1, 1, 0, 1, 1, 1, 1, 0, 1, 1, 1, 0, 0, 1,\n",
              "       1, 0, 0, 1, 1, 0, 1, 0, 1, 1, 0, 1, 0, 0, 0, 1, 0, 0, 1, 0, 0, 0,\n",
              "       0, 0, 1, 1, 1, 0, 0, 1, 1, 1, 0, 1, 1, 1, 0, 0, 1, 1, 1, 0, 1, 0,\n",
              "       1, 1, 0, 0, 1, 1, 1, 1, 0, 0, 1, 0, 1, 1, 0, 1, 1, 0, 1, 1, 1, 1,\n",
              "       0, 0, 0, 0, 1, 1, 1, 1])"
            ]
          },
          "metadata": {},
          "execution_count": 21
        }
      ]
    },
    {
      "cell_type": "markdown",
      "source": [
        "The GridSearchCV object itself doesn't have a coefficient, because it's not an estimator, it's an object that cycles through parameters and trains various estimators.\n",
        "https://stackoverflow.com/questions/62776587/python-gridsearchcv-object-has-no-attribute-coef"
      ],
      "metadata": {
        "id": "troLa2p5NlYC"
      }
    },
    {
      "cell_type": "code",
      "source": [
        "y_test.shape\n",
        "\n"
      ],
      "metadata": {
        "id": "10qqupo0cDQH",
        "colab": {
          "base_uri": "https://localhost:8080/"
        },
        "outputId": "c6b1b9fd-105d-4a73-f4d5-13a1bc33eda2"
      },
      "execution_count": null,
      "outputs": [
        {
          "output_type": "execute_result",
          "data": {
            "text/plain": [
              "(184,)"
            ]
          },
          "metadata": {},
          "execution_count": 22
        }
      ]
    },
    {
      "cell_type": "code",
      "source": [
        "heartdisease_y_pred.shape"
      ],
      "metadata": {
        "id": "usXSYkjocHdc",
        "colab": {
          "base_uri": "https://localhost:8080/"
        },
        "outputId": "afb3691e-5ae7-4541-8fca-e21252c87bf3"
      },
      "execution_count": null,
      "outputs": [
        {
          "output_type": "execute_result",
          "data": {
            "text/plain": [
              "(184,)"
            ]
          },
          "metadata": {},
          "execution_count": 23
        }
      ]
    },
    {
      "cell_type": "code",
      "source": [
        "# Both arguments require the same number of samples\n",
        "from sklearn.metrics import confusion_matrix\n",
        "confusion_matrix(y_test, heartdisease_y_pred)"
      ],
      "metadata": {
        "id": "Gd5BcvZH0ABa",
        "colab": {
          "base_uri": "https://localhost:8080/"
        },
        "outputId": "0b1acfe4-2b5f-4645-e582-330b34b64980"
      },
      "execution_count": null,
      "outputs": [
        {
          "output_type": "execute_result",
          "data": {
            "text/plain": [
              "array([[73,  9],\n",
              "       [ 8, 94]])"
            ]
          },
          "metadata": {},
          "execution_count": 24
        }
      ]
    },
    {
      "cell_type": "code",
      "source": [
        "from sklearn.metrics import ConfusionMatrixDisplay\n",
        "cm = confusion_matrix(y_test, heartdisease_y_pred)\n",
        "cm_display = ConfusionMatrixDisplay(cm).plot()\n",
        "\n",
        "#TN | FP\n",
        "#FN | TP\n",
        "\n",
        "#Even though the L-to-R diagonal is high valued, is it acceptable to have 7\n",
        "#false negatives when it means failure to diagnose a real case of heart disease?"
      ],
      "metadata": {
        "id": "Q1gtYijMdpGf",
        "colab": {
          "base_uri": "https://localhost:8080/",
          "height": 279
        },
        "outputId": "7cc6f6c3-8e0a-4066-bcbb-75bca3bfef7b"
      },
      "execution_count": null,
      "outputs": [
        {
          "output_type": "display_data",
          "data": {
            "text/plain": [
              "<Figure size 432x288 with 2 Axes>"
            ],
            "image/png": "[encoded data removed]"
          },
          "metadata": {
            "needs_background": "light"
          }
        }
      ]
    },
    {
      "cell_type": "code",
      "source": [
        "accuracy_score(y_test, heartdisease_y_pred) # Classification accuracy = (TP + TN)/(TP + TN + FP + FN)"
      ],
      "metadata": {
        "colab": {
          "base_uri": "https://localhost:8080/"
        },
        "id": "PQZDO2G-7N49",
        "outputId": "aa63c933-aa22-49e4-dc57-02354a8cbb04"
      },
      "execution_count": null,
      "outputs": [
        {
          "output_type": "execute_result",
          "data": {
            "text/plain": [
              "0.907608695652174"
            ]
          },
          "metadata": {},
          "execution_count": 26
        }
      ]
    },
    {
      "cell_type": "code",
      "source": [
        "1-accuracy_score(y_test, heartdisease_y_pred) #Classification error = (FP + FN)/(TP + TN + FP + FN)"
      ],
      "metadata": {
        "colab": {
          "base_uri": "https://localhost:8080/"
        },
        "id": "ffZiCejA7NuO",
        "outputId": "a119f3a0-ca24-4fcf-b751-4bb1a3b3299b"
      },
      "execution_count": null,
      "outputs": [
        {
          "output_type": "execute_result",
          "data": {
            "text/plain": [
              "0.09239130434782605"
            ]
          },
          "metadata": {},
          "execution_count": 27
        }
      ]
    },
    {
      "cell_type": "markdown",
      "source": [
        "Specificity: when the actual value is negative how often is the prediction correct? TN/(TN+FP) = 69/(69+13)= 69/82 = 0.841463"
      ],
      "metadata": {
        "id": "1NBFPilv7XT7"
      }
    },
    {
      "cell_type": "markdown",
      "source": [
        "False Positive Rate: when the actual value is negative, how often is the prediction incorrect? FP/(TN+FP) = 13/(69+13) = .158537"
      ],
      "metadata": {
        "id": "93VmwsIN7XEx"
      }
    },
    {
      "cell_type": "markdown",
      "source": [
        "The roc curve requires either the probabilities or the non-thresholded decision values from the estimator. Since the logistic regression provides a decision function, we will use it to plot the roc curve:\n",
        "https://scikit-learn.org/stable/auto_examples/miscellaneous/plot_display_object_visualization.html#sphx-glr-auto-examples-miscellaneous-plot-display-object-visualization-py\n",
        "\n",
        "**RocCurveDisplay** for Voting Classifier"
      ],
      "metadata": {
        "id": "Rz06DyeHj-Hp"
      }
    },
    {
      "cell_type": "code",
      "source": [
        "from sklearn.metrics import roc_curve\n",
        "from sklearn.metrics import RocCurveDisplay\n",
        "y_score = vc.predict(X_test)\n",
        "import matplotlib.pyplot as plt\n",
        "\n",
        "\n",
        "fpr, tpr, _ = roc_curve(y_test, y_score, pos_label = vc.classes_[1])\n",
        "roc_auc = auc(fpr, tpr)\n",
        "roc_display = RocCurveDisplay(fpr=fpr, tpr=tpr).plot()\n",
        "plt.plot([0, 1], [0, 1], color=\"orange\", linestyle=\"--\")\n",
        "print(roc_auc)"
      ],
      "metadata": {
        "id": "X3C0cZ_6kKT6",
        "colab": {
          "base_uri": "https://localhost:8080/",
          "height": 297
        },
        "outputId": "abc7fd33-1baf-4151-8509-409c7e80f80f"
      },
      "execution_count": null,
      "outputs": [
        {
          "output_type": "stream",
          "name": "stdout",
          "text": [
            "0.9059062649450023\n"
          ]
        },
        {
          "output_type": "display_data",
          "data": {
            "text/plain": [
              "<Figure size 432x288 with 1 Axes>"
            ],
            "image/png": "[encoded data removed]"
          },
          "metadata": {
            "needs_background": "light"
          }
        }
      ]
    },
    {
      "cell_type": "markdown",
      "source": [
        "ROC curves typically feature true positive rate (Sensitivity; recall; probability of detection) on the Y axis, and false positive rate (1-Specificity; the probability of false alarm) on the X axis, for all possible classificaton thresholds ranging from 0 to 1. This is the advantage: ROC curve visualizes all possible classification thresholds. This means that the top left corner of the plot is the “ideal” point - a false positive rate of zero, and a true positive rate of one. This is not very realistic, but it does mean that a larger area under the curve (AUC) is usually better.The “steepness” of ROC curves is also important, since it is ideal to maximize the true positive rate while minimizing the false positive rate. ROC curves are typically used in binary classification to study the output of a classifier.\n",
        "https://scikit-learn.org/stable/auto_examples/model_selection/plot_roc.html?highlight=area%20under%20curve\n",
        "\n",
        "The following is courtesy of Data School's https://www.youtube.com/watch?v=OAl6eAyP-yo\n",
        "True Positive Rate = true positives / all positives\n",
        "When the actual classification is positive (Heart Disease in this case), how often does the classifier predict positive? Range [0, 1]\n",
        "\n",
        "False Positive Rate = false positives / all negatives\n",
        "When the actual classification is negative (no Heart Disease in this case), how often does the classifier incorrectly predict positive? Range [0, 1]\n",
        "\n",
        "ROC curves are useful even if your predicted probabilities are not properly calibrated from 0 to 1. What matters is how well the classifier separated the two classes. AUC represents the the probability that a classifier will rank a randomly choesn positive observation higher than a randomly chosen negative observation; AUC is a useful metric even when classes are highly unbalanced.\n",
        "\n",
        "ROC curves can be extended to problems with three or more classes using a One-Versus-All approach.\n",
        "\n",
        "Choosing a classification threshold depends on whether you want to minimize FPR or maximize TPR. A low threshhold may result in a lot of False Positives but may be considered desireable if the goal is to collect all true positives and minimize a case where a real instance is misclassified. The ROC course will help you understand the impact of your choice of threshhold.\n",
        "\n",
        "Here is a link to understan the ROC curve, pointed out by Data School:\n",
        "http://www.navan.name/roc/\n"
      ],
      "metadata": {
        "id": "eVUHUyaZPREQ"
      }
    },
    {
      "cell_type": "markdown",
      "source": [
        "**PrecisionRecallDisplay**"
      ],
      "metadata": {
        "id": "ylsSgKtmlrf3"
      }
    },
    {
      "cell_type": "code",
      "source": [
        "from sklearn.metrics import precision_recall_curve\n",
        "from sklearn.metrics import PrecisionRecallDisplay\n",
        "\n",
        "prec, recall, _ = precision_recall_curve(y_test, y_score, pos_label=vc.classes_[1])\n",
        "pr_display = PrecisionRecallDisplay(precision=prec, recall=recall).plot()"
      ],
      "metadata": {
        "id": "4eyvgnrHlyNT",
        "colab": {
          "base_uri": "https://localhost:8080/",
          "height": 279
        },
        "outputId": "638933c6-db0b-4dda-c7e5-fe2229f513e6"
      },
      "execution_count": null,
      "outputs": [
        {
          "output_type": "display_data",
          "data": {
            "text/plain": [
              "<Figure size 432x288 with 1 Axes>"
            ],
            "image/png": "[encoded data removed]"
          },
          "metadata": {
            "needs_background": "light"
          }
        }
      ]
    },
    {
      "cell_type": "markdown",
      "source": [
        "Precision-Recall is a useful measure of success of prediction when the classes are very imbalanced. In information retrieval, **precision** is a measure of result relevancy (**out of all predictions**, how many were correctly classified for the given class; TP/(TP+FP), while **recall** (truth as baseline; **out of all actual positives for the given class**, how many were correctly classified; TP/(TP+FN)) is a measure of how many truly relevant results are returned.\n",
        "The precision-recall curve shows the tradeoff between precision and recall for different threshold. A high area under the curve represents both high recall and high precision, where high precision relates to a low false positive rate, and high recall relates to a low false negative rate. High scores for both show that the classifier is returning accurate results (high precision), as well as returning a majority of all positive results (high recall).\n",
        "\n",
        "A system with high recall but low precision returns many results, but most of its predicted labels are incorrect when compared to the training labels. A system with high precision but low recall is just the opposite, returning very few results, but most of its predicted labels are correct when compared to the training labels. An ideal system with high precision and high recall will return many results, with all results labeled correctly.\n",
        "\n",
        "Precision-recall curves are typically used in binary classification to study the output of a classifier.\n",
        "https://scikit-learn.org/stable/auto_examples/model_selection/plot_precision_recall.html#sphx-glr-auto-examples-model-selection-plot-precision-recall-py"
      ],
      "metadata": {
        "id": "NpuLbfSIQIeN"
      }
    },
    {
      "cell_type": "code",
      "source": [
        "fig, (ax1, ax2) = plt.subplots(1, 2, figsize=(12, 8))\n",
        "\n",
        "roc_display.plot(ax=ax1)\n",
        "pr_display.plot(ax=ax2)\n",
        "plt.show()"
      ],
      "metadata": {
        "id": "nsXWTmirOUNB",
        "colab": {
          "base_uri": "https://localhost:8080/",
          "height": 497
        },
        "outputId": "a0c6583d-4218-40a5-a419-0acb39d56113"
      },
      "execution_count": null,
      "outputs": [
        {
          "output_type": "display_data",
          "data": {
            "text/plain": [
              "<Figure size 864x576 with 2 Axes>"
            ],
            "image/png": "[encoded data removed]"
          },
          "metadata": {
            "needs_background": "light"
          }
        }
      ]
    },
    {
      "cell_type": "markdown",
      "source": [
        "**Build a predictive system, courtesy https://www.youtube.com/watch?v=qmqCYC-MBQo by Siddhardhan** and https://machinelearningmastery.com/how-to-connect-model-input-data-with-predictions-for-machine-learning/"
      ],
      "metadata": {
        "id": "7BvjFwSntZbk"
      }
    },
    {
      "cell_type": "code",
      "source": [
        "#array\n",
        "cols = ['Age', 'Sex','ChestPainType', 'RestingBP', 'Cholesterol', 'FastingBS', 'RestingECG', 'MaxHR', 'ExerciseAngina', 'Oldpeak' , 'ST_Slope']\n",
        "\n",
        "# copy/paste just instance values into first array; include parentheses around string\n",
        "df = pd.DataFrame([[49,'F','ATA',110,208,0,'Normal',160,'N',0,'Up']], columns = cols)\n",
        "prediction = vc.predict(df)\n",
        "\n",
        "print(prediction)\n",
        "\n",
        "if prediction[0]==0 :\n",
        "  print('This patient does not have heart disease')\n",
        "else:\n",
        "  print('This patient has heart disease')\n",
        "\n"
      ],
      "metadata": {
        "id": "8ZB_g0wDFZ16",
        "colab": {
          "base_uri": "https://localhost:8080/"
        },
        "outputId": "3574b9f5-248c-4457-e951-caca60def67b"
      },
      "execution_count": null,
      "outputs": [
        {
          "output_type": "stream",
          "name": "stdout",
          "text": [
            "[0]\n",
            "This patient does not have heart disease\n"
          ]
        }
      ]
    },
    {
      "cell_type": "markdown",
      "source": [
        "https://www.youtube.com/watch?v=2lq2k6J3GW4\n",
        "\n",
        "https://www.youtube.com/watch?v=Ld8-_WP0G90\n",
        "StatifiedKFold for classification:-)\n",
        "\n",
        "https://scikit-learn.org/stable/modules/generated/sklearn.ensemble.VotingClassifier.html\n",
        "\n",
        "https://www.youtube.com/watch?v=2lq2k6J3GW4&t=40s"
      ],
      "metadata": {
        "id": "hhJCdrbt5cuV"
      }
    }
  ]
}