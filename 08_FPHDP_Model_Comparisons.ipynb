{
  "nbformat": 4,
  "nbformat_minor": 0,
  "metadata": {
    "colab": {
      "provenance": [],
      "authorship_tag": "ABX9TyMXzLqn+1XYTC2YzeWFD7XA"
    },
    "kernelspec": {
      "name": "python3",
      "display_name": "Python 3"
    },
    "language_info": {
      "name": "python"
    }
  },
  "cells": [
    {
      "cell_type": "markdown",
      "source": [
        "#08_FPHDP_Model_Comparison\n",
        "This final analysis is based off of content in technologyCult's https://www.youtube.com/watch?v=AIewhpYT7Yc"
      ],
      "metadata": {
        "id": "1CaJ6e6PerTy"
      }
    },
    {
      "cell_type": "markdown",
      "source": [
        "Comparing ML Models in Scikit-Learn\n",
        "https://www.youtube.com/watch?v=0pP4EwWJgIU&t=89s\n",
        "\n",
        "https://stackoverflow.com/questions/61466909/when-do-you-use-gridsearchcv-vs-k-fold-in-sklearn\n",
        "\"GridSearchCV performs k-fold cross-validation, specified by the cv parameter. If the cv parameter is an integer, it represents the number of folds for k-fold cross-validation.\"\n",
        "\n",
        "https://www.youtube.com/watch?v=AIewhpYT7Yc"
      ],
      "metadata": {
        "id": "73ovn8qFb8E_"
      }
    },
    {
      "cell_type": "code",
      "execution_count": null,
      "metadata": {
        "id": "6mEDtprcbmQj",
        "colab": {
          "resources": {
            "http://localhost:8080/nbextensions/google.colab/files.js": {
              "data": "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",
              "ok": true,
              "headers": [
                [
                  "content-type",
                  "application/javascript"
                ]
              ],
              "status": 200,
              "status_text": ""
            }
          },
          "base_uri": "https://localhost:8080/",
          "height": 74
        },
        "outputId": "5182963d-4087-4bcf-d3ee-be7c0a35c30b"
      },
      "outputs": [
        {
          "output_type": "display_data",
          "data": {
            "text/plain": [
              "<IPython.core.display.HTML object>"
            ],
            "text/html": [
              "\n",
              "     <input type=\"file\" id=\"files-faaca45c-f6b7-4735-b40c-0acbe5ba6bd3\" name=\"files[]\" multiple disabled\n",
              "        style=\"border:none\" />\n",
              "     <output id=\"result-faaca45c-f6b7-4735-b40c-0acbe5ba6bd3\">\n",
              "      Upload widget is only available when the cell has been executed in the\n",
              "      current browser session. Please rerun this cell to enable.\n",
              "      </output>\n",
              "      <script src=\"/nbextensions/google.colab/files.js\"></script> "
            ]
          },
          "metadata": {}
        },
        {
          "output_type": "stream",
          "name": "stdout",
          "text": [
            "Saving heart.csv to heart (4).csv\n"
          ]
        }
      ],
      "source": [
        "from google.colab import files\n",
        "uploaded = files.upload()"
      ]
    },
    {
      "cell_type": "code",
      "source": [
        "import numpy as np\n",
        "import pandas as pd\n",
        "import matplotlib.pyplot as plt\n",
        "import seaborn as sns\n",
        "\n",
        "from sklearn.compose import ColumnTransformer\n",
        "from sklearn.pipeline import Pipeline\n",
        "from sklearn.metrics import mean_squared_error, r2_score, accuracy_score, roc_curve, auc, recall_score, precision_score, roc_auc_score, f1_score, matthews_corrcoef\n",
        "from sklearn.impute import SimpleImputer\n",
        "from sklearn.impute import KNNImputer\n",
        "from sklearn.preprocessing import StandardScaler, OneHotEncoder\n",
        "from sklearn.linear_model import LogisticRegression\n",
        "from sklearn.model_selection import train_test_split, GridSearchCV, cross_val_score\n",
        "from sklearn.ensemble import RandomForestClassifier, VotingClassifier\n",
        "from sklearn.svm import LinearSVC\n",
        "from sklearn.svm import SVC\n",
        "from sklearn import neighbors\n",
        "import matplotlib.pyplot as plt\n",
        "from matplotlib.colors import ListedColormap\n",
        "\n",
        "\n",
        "\n",
        "np.random.seed(42)"
      ],
      "metadata": {
        "id": "ekNffNSFcgBx"
      },
      "execution_count": null,
      "outputs": []
    },
    {
      "cell_type": "code",
      "source": [
        "#Pandas dataframe\n",
        "heart = pd.read_csv(\"/content/heart.csv\")"
      ],
      "metadata": {
        "id": "Ri3Bkzq6ckK9"
      },
      "execution_count": null,
      "outputs": []
    },
    {
      "cell_type": "code",
      "source": [
        "numeric_features = heart.select_dtypes(include=[np.number])\n",
        "numeric_features.columns"
      ],
      "metadata": {
        "colab": {
          "base_uri": "https://localhost:8080/"
        },
        "id": "kjjrxl1zcqiV",
        "outputId": "f65414a3-374d-4a23-d7cd-25ec8c60e4ac"
      },
      "execution_count": null,
      "outputs": [
        {
          "output_type": "execute_result",
          "data": {
            "text/plain": [
              "Index(['Age', 'RestingBP', 'Cholesterol', 'FastingBS', 'MaxHR', 'Oldpeak',\n",
              "       'HeartDisease'],\n",
              "      dtype='object')"
            ]
          },
          "metadata": {},
          "execution_count": 77
        }
      ]
    },
    {
      "cell_type": "code",
      "source": [
        "categorical_features = heart.select_dtypes(include=[object])\n",
        "categorical_features.columns"
      ],
      "metadata": {
        "colab": {
          "base_uri": "https://localhost:8080/"
        },
        "id": "otRLyzMNctsX",
        "outputId": "00557912-e19e-4a89-b01d-4f9c4826f19e"
      },
      "execution_count": null,
      "outputs": [
        {
          "output_type": "execute_result",
          "data": {
            "text/plain": [
              "Index(['Sex', 'ChestPainType', 'RestingECG', 'ExerciseAngina', 'ST_Slope'], dtype='object')"
            ]
          },
          "metadata": {},
          "execution_count": 78
        }
      ]
    },
    {
      "cell_type": "code",
      "source": [
        "\n",
        "X= heart.drop('HeartDisease', axis=1)\n",
        "\n",
        "y = heart['HeartDisease']\n",
        "\n"
      ],
      "metadata": {
        "id": "2CeV8oNIcx5-"
      },
      "execution_count": null,
      "outputs": []
    },
    {
      "cell_type": "code",
      "source": [
        "model_cols = []\n",
        "df=pd.DataFrame(columns=model_cols)\n",
        "index=0"
      ],
      "metadata": {
        "id": "JMwzx77a_lTy"
      },
      "execution_count": null,
      "outputs": []
    },
    {
      "cell_type": "markdown",
      "source": [
        "# Logistic Regression"
      ],
      "metadata": {
        "id": "RNWxaPkO_Bir"
      }
    },
    {
      "cell_type": "code",
      "source": [
        "numeric_features = ['Age', 'RestingBP', 'Cholesterol', 'FastingBS', 'MaxHR', 'Oldpeak']\n",
        "numeric_transformer = Pipeline(\n",
        "    steps=[(\"imputer\", SimpleImputer(strategy=\"median\")), (\"scaler\", StandardScaler())]\n",
        ")\n",
        "\n",
        "categorical_features = ['Sex', 'ChestPainType', 'RestingECG', 'ExerciseAngina', 'ST_Slope']\n",
        "categorical_transformer = OneHotEncoder(handle_unknown=\"ignore\")\n",
        "\n",
        "preprocessor = ColumnTransformer(\n",
        "    transformers=[\n",
        "        (\"num\", numeric_transformer, numeric_features),\n",
        "        (\"cat\", categorical_transformer, categorical_features),\n",
        "    ],\n",
        ")\n",
        "\n",
        "logreg = Pipeline(\n",
        "    steps=[(\"preprocessor\", preprocessor), (\"classifier\", LogisticRegression())]\n",
        ")\n",
        "\n",
        "#https://www.youtube.com/watch?v=qmqCYC-MBQo by Siddhardhan: idea to\n",
        "# startify y so that we have balanced response values within test set and\n",
        "# training set.\n",
        "# another resource on stratify y from Data School:\n",
        "# https://www.youtube.com/watch?v=Zcjl8xPLmPw\n",
        "X_train, X_test, y_train, y_test = train_test_split(X, y, test_size=0.2, stratify = y, random_state=42)\n",
        "\n",
        "logreg.fit(X_train, y_train)\n",
        "\n",
        "# #https://www.youtube.com/watch?v=qmqCYC-MBQo by Siddhardhan: looking at accuracy score\n",
        "X_train_prediction = logreg.predict(X_train)\n",
        "training_data_accuracy = accuracy_score(X_train_prediction, y_train)\n",
        "#print(\"Accuracy on training data :\", training_data_accuracy)\n",
        "\n",
        "df.loc[index,\"Classifier\"] =\"Logistic Regression\"\n",
        "df.loc[index,\"Train Accuracy\"] = logreg.score(X_train, y_train)\n",
        "df.loc[index, \"Test Accuracy\"] = logreg.score(X_test, y_test)\n",
        "df.loc[index, \"Precision\"] = precision_score(y_test, logreg.predict(X_test))\n",
        "df.loc[index, \"Recall\"] = recall_score(y_test, logreg.predict(X_test))\n",
        "df.loc[index, \"F1 Score\"] = f1_score(y_test, logreg.predict(X_test))\n",
        "df.loc[index, \"MCC\"] = matthews_corrcoef(y_test, logreg.predict(X_test))\n",
        "index += 1\n",
        "# print(\"model score on test set: %.3f\" % logreg.score(X_test, y_test))"
      ],
      "metadata": {
        "id": "WcWIugOsZ8hi"
      },
      "execution_count": null,
      "outputs": []
    },
    {
      "cell_type": "markdown",
      "source": [
        "# Linear SVC"
      ],
      "metadata": {
        "id": "CKt7Rg17_FfO"
      }
    },
    {
      "cell_type": "code",
      "source": [
        "missingvalue = ['RestingBP', 'Cholesterol']\n",
        "mvtransformer = Pipeline(\n",
        "    steps=[(\"imputer\", KNNImputer(missing_values=0, n_neighbors=5)), (\"scaler\", StandardScaler())]\n",
        ")\n",
        "\n",
        "numregular = ['Age', 'FastingBS', 'MaxHR', 'Oldpeak']\n",
        "numregulartransformer = Pipeline(\n",
        "    steps=[(\"imputer\", SimpleImputer(strategy=\"median\")), (\"scaler\", StandardScaler())]\n",
        ")\n",
        "\n",
        "categorical_features = ['Sex', 'ChestPainType', 'RestingECG', 'ExerciseAngina', 'ST_Slope']\n",
        "categorical_transformer = OneHotEncoder(handle_unknown=\"ignore\")\n",
        "\n",
        "preprocessor = ColumnTransformer(\n",
        "    transformers=[\n",
        "        (\"nummv\", mvtransformer, missingvalue),\n",
        "        (\"numreg\", numregulartransformer, numregular),\n",
        "        (\"cat\", categorical_transformer, categorical_features),\n",
        "    ],\n",
        ")\n",
        "\n",
        "linearsvc = Pipeline(\n",
        "    steps=[(\"preprocessor\", preprocessor), (\"classifier\", LinearSVC(dual = False))]\n",
        ")\n",
        "\n",
        "# #https://www.youtube.com/watch?v=qmqCYC-MBQo by Siddhardhan: idea to\n",
        "# # startify y so that we have a balanced response values within test set and\n",
        "# # training set.\n",
        "X_train, X_test, y_train, y_test = train_test_split(X, y, test_size=0.2, stratify = y, random_state=42)\n",
        "\n",
        "linearsvc.fit(X_train, y_train)\n",
        "\n",
        "# #https://www.youtube.com/watch?v=qmqCYC-MBQo by Siddhardhan: looking at accuracy score\n",
        "X_train_prediction = linearsvc.predict(X_train)\n",
        "training_data_accuracy = accuracy_score(X_train_prediction, y_train)\n",
        "#print(\"Accuracy on training data :\", training_data_accuracy)\n",
        "\n",
        "df.loc[index,\"Classifier\"] =\"Linear SVC\"\n",
        "df.loc[index,\"Train Accuracy\"] = linearsvc.score(X_train, y_train)\n",
        "df.loc[index, \"Test Accuracy\"] = linearsvc.score(X_test, y_test)\n",
        "df.loc[index, \"Precision\"] = precision_score(y_test, linearsvc.predict(X_test))\n",
        "df.loc[index, \"Recall\"] = recall_score(y_test, linearsvc.predict(X_test))\n",
        "df.loc[index, \"F1 Score\"] = f1_score(y_test, linearsvc.predict(X_test))\n",
        "df.loc[index, \"MCC\"] = matthews_corrcoef(y_test, linearsvc.predict(X_test))\n",
        "index += 1\n",
        "# print(\"model score on test set: %.3f\" % linearsvc.score(X_test, y_test))"
      ],
      "metadata": {
        "id": "r-Co6ww-eb0Z"
      },
      "execution_count": null,
      "outputs": []
    },
    {
      "cell_type": "markdown",
      "source": [
        "# KNN"
      ],
      "metadata": {
        "id": "wMLDdrWX_JZ9"
      }
    },
    {
      "cell_type": "code",
      "source": [
        "missingvalue = ['RestingBP', 'Cholesterol']\n",
        "mvtransformer = Pipeline(\n",
        "    steps=[(\"imputer\", KNNImputer(missing_values=0, n_neighbors=5)), (\"scaler\", StandardScaler())]\n",
        ")\n",
        "\n",
        "numregular = ['Age', 'FastingBS', 'MaxHR', 'Oldpeak']\n",
        "numregulartransformer = Pipeline(\n",
        "    steps=[(\"imputer\", SimpleImputer(strategy=\"median\")), (\"scaler\", StandardScaler())]\n",
        ")\n",
        "\n",
        "categorical_features = ['Sex', 'ChestPainType', 'RestingECG', 'ExerciseAngina', 'ST_Slope']\n",
        "categorical_transformer = OneHotEncoder(handle_unknown=\"ignore\")\n",
        "\n",
        "preprocessor = ColumnTransformer(\n",
        "    transformers=[\n",
        "        (\"nummv\", mvtransformer, missingvalue),\n",
        "        (\"numreg\", numregulartransformer, numregular),\n",
        "        (\"cat\", categorical_transformer, categorical_features),\n",
        "    ],\n",
        ")\n",
        "\n",
        "knn = Pipeline(\n",
        "    steps=[(\"preprocessor\", preprocessor), (\"classifier\", neighbors.KNeighborsClassifier())]\n",
        ")\n",
        "\n",
        "# #https://www.youtube.com/watch?v=qmqCYC-MBQo by Siddhardhan: idea to\n",
        "# # startify y so that we have a balanced response values within test set and\n",
        "# # training set.\n",
        "X_train, X_test, y_train, y_test = train_test_split(X, y, test_size=0.2, stratify = y, random_state=42)\n",
        "\n",
        "knn.fit(X_train, y_train)\n",
        "\n",
        "# #https://www.youtube.com/watch?v=qmqCYC-MBQo by Siddhardhan: looking at accuracy score\n",
        "X_train_prediction = knn.predict(X_train)\n",
        "training_data_accuracy = accuracy_score(X_train_prediction, y_train)\n",
        "#print(\"Accuracy on training data :\", training_data_accuracy)\n",
        "\n",
        "df.loc[index,\"Classifier\"] =\"KNN\"\n",
        "df.loc[index,\"Train Accuracy\"] = knn.score(X_train, y_train)\n",
        "df.loc[index, \"Test Accuracy\"] = knn.score(X_test, y_test)\n",
        "df.loc[index, \"Precision\"] = precision_score(y_test, knn.predict(X_test))\n",
        "df.loc[index, \"Recall\"] = recall_score(y_test, knn.predict(X_test))\n",
        "df.loc[index, \"F1 Score\"] = f1_score(y_test, knn.predict(X_test))\n",
        "df.loc[index, \"MCC\"] = matthews_corrcoef(y_test, knn.predict(X_test))\n",
        "index += 1\n",
        "\n",
        "# print(\"model score on test set: %.3f\" % knn.score(X_test, y_test))"
      ],
      "metadata": {
        "id": "GyqvZDkmalXh"
      },
      "execution_count": null,
      "outputs": []
    },
    {
      "cell_type": "markdown",
      "source": [
        "# Random Forest"
      ],
      "metadata": {
        "id": "y0AX28L7_Sz8"
      }
    },
    {
      "cell_type": "code",
      "source": [
        "missingvalue = ['RestingBP', 'Cholesterol']\n",
        "mvtransformer = Pipeline(\n",
        "    steps=[(\"imputer\", KNNImputer(missing_values=0, n_neighbors=5)), (\"scaler\", StandardScaler())]\n",
        ")\n",
        "\n",
        "numregular = ['Age', 'FastingBS', 'MaxHR', 'Oldpeak']\n",
        "numregulartransformer = Pipeline(\n",
        "    steps=[(\"imputer\", SimpleImputer(strategy=\"median\")), (\"scaler\", StandardScaler())]\n",
        ")\n",
        "\n",
        "categorical_features = ['Sex', 'ChestPainType', 'RestingECG', 'ExerciseAngina', 'ST_Slope']\n",
        "categorical_transformer = OneHotEncoder(handle_unknown=\"ignore\")\n",
        "\n",
        "preprocessor = ColumnTransformer(\n",
        "    transformers=[\n",
        "        (\"nummv\", mvtransformer, missingvalue),\n",
        "        (\"numreg\", numregulartransformer, numregular),\n",
        "        (\"cat\", categorical_transformer, categorical_features),\n",
        "    ],\n",
        ")\n",
        "\n",
        "randomforest = Pipeline(\n",
        "    steps=[(\"preprocessor\", preprocessor), (\"classifier\", RandomForestClassifier(n_estimators=100))]\n",
        ")\n",
        "\n",
        "#https://www.youtube.com/watch?v=qmqCYC-MBQo by Siddhardhan: idea to\n",
        "# startify y so that we have a balanced response values within test set and\n",
        "# training set.\n",
        "X_train, X_test, y_train, y_test = train_test_split(X, y, test_size=0.2, stratify = y, random_state=42)\n",
        "\n",
        "randomforest.fit(X_train, y_train)\n",
        "\n",
        "# #https://www.youtube.com/watch?v=qmqCYC-MBQo by Siddhardhan: looking at accuracy score\n",
        "X_train_prediction = randomforest.predict(X_train)\n",
        "training_data_accuracy = accuracy_score(X_train_prediction, y_train)\n",
        "#print(\"Accuracy on training data :\", training_data_accuracy)\n",
        "\n",
        "df.loc[index,\"Classifier\"] =\"Random Forest\"\n",
        "df.loc[index,\"Train Accuracy\"] = randomforest.score(X_train, y_train)\n",
        "df.loc[index, \"Test Accuracy\"] = randomforest.score(X_test, y_test)\n",
        "df.loc[index, \"Precision\"] = precision_score(y_test, randomforest.predict(X_test))\n",
        "df.loc[index, \"Recall\"] = recall_score(y_test, randomforest.predict(X_test))\n",
        "df.loc[index, \"F1 Score\"] = f1_score(y_test, randomforest.predict(X_test))\n",
        "df.loc[index, \"MCC\"] = matthews_corrcoef(y_test, randomforest.predict(X_test))\n",
        "index += 1\n",
        "\n",
        "# print(\"model score on test set: %.3f\" % randomforest.score(X_test, y_test))"
      ],
      "metadata": {
        "id": "7Xs0L_sjaxFS"
      },
      "execution_count": null,
      "outputs": []
    },
    {
      "cell_type": "markdown",
      "source": [
        "# Voting Classification"
      ],
      "metadata": {
        "id": "t3e2wcS9_XfK"
      }
    },
    {
      "cell_type": "code",
      "source": [
        "vc=VotingClassifier([('clf1', logreg),('clf2', linearsvc),('clf3', knn), ('clf4', randomforest)])\n",
        "\n",
        "X_train, X_test, y_train, y_test = train_test_split(X, y, test_size=0.2, stratify = y, random_state=42)\n",
        "\n",
        "vc.fit(X_train, y_train)\n",
        "\n",
        "vc.fit(X, y)\n",
        "vc.predict(X)\n",
        "y_pred = vc.predict(X)\n",
        "vc_accuracy_score =  accuracy_score(y, y_pred)\n",
        "# print (\"Training Accuracy on VC :\", vc_accuracy_score)\n",
        "# print(\"model score on test set: %.3f\" % vc.score(X_test, y_test))\n",
        "\n",
        "df.loc[index,\"Classifier\"] =\"Voting Classifier\"\n",
        "df.loc[index,\"Train Accuracy\"] = vc.score(X_train, y_train)\n",
        "df.loc[index, \"Test Accuracy\"] = vc.score(X_test, y_test)\n",
        "df.loc[index, \"Precision\"] = precision_score(y_test, vc.predict(X_test))\n",
        "df.loc[index, \"Recall\"] = recall_score(y_test, vc.predict(X_test))\n",
        "df.loc[index, \"F1 Score\"] = f1_score(y_test, vc.predict(X_test))\n",
        "df.loc[index, \"MCC\"] = matthews_corrcoef(y_test, vc.predict(X_test))\n"
      ],
      "metadata": {
        "id": "-bYwySnM6DEG"
      },
      "execution_count": null,
      "outputs": []
    },
    {
      "cell_type": "code",
      "source": [
        "#Classification Accuracy > Sensitivity: when the actual value is positive, how often is the prediction correct?\n",
        "df"
      ],
      "metadata": {
        "colab": {
          "base_uri": "https://localhost:8080/",
          "height": 206
        },
        "id": "5WLMtxOhCawd",
        "outputId": "a4ce133a-2553-4fd9-bba7-512bd79deed4"
      },
      "execution_count": null,
      "outputs": [
        {
          "output_type": "execute_result",
          "data": {
            "text/plain": [
              "            Classifier  Train Accuracy  Test Accuracy  Precision    Recall  \\\n",
              "0  Logistic Regression        0.859673       0.885870   0.871560  0.931373   \n",
              "1           Linear SVC        0.862398       0.891304   0.894231  0.911765   \n",
              "2                  KNN        0.871935       0.885870   0.900990  0.892157   \n",
              "3        Random Forest        1.000000       0.880435   0.884615  0.901961   \n",
              "4    Voting Classifier        0.889646       0.934783   0.950000  0.931373   \n",
              "\n",
              "   F1 Score       MCC  \n",
              "0  0.900474  0.769383  \n",
              "1  0.902913  0.779672  \n",
              "2  0.896552  0.769332  \n",
              "3  0.893204  0.757615  \n",
              "4  0.940594  0.868530  "
            ],
            "text/html": [
              "\n",
              "  <div id=\"df-9bc4c93e-8278-4ab5-a805-b51c3d72d85b\">\n",
              "    <div class=\"colab-df-container\">\n",
              "      <div>\n",
              "<style scoped>\n",
              "    .dataframe tbody tr th:only-of-type {\n",
              "        vertical-align: middle;\n",
              "    }\n",
              "\n",
              "    .dataframe tbody tr th {\n",
              "        vertical-align: top;\n",
              "    }\n",
              "\n",
              "    .dataframe thead th {\n",
              "        text-align: right;\n",
              "    }\n",
              "</style>\n",
              "<table border=\"1\" class=\"dataframe\">\n",
              "  <thead>\n",
              "    <tr style=\"text-align: right;\">\n",
              "      <th></th>\n",
              "      <th>Classifier</th>\n",
              "      <th>Train Accuracy</th>\n",
              "      <th>Test Accuracy</th>\n",
              "      <th>Precision</th>\n",
              "      <th>Recall</th>\n",
              "      <th>F1 Score</th>\n",
              "      <th>MCC</th>\n",
              "    </tr>\n",
              "  </thead>\n",
              "  <tbody>\n",
              "    <tr>\n",
              "      <th>0</th>\n",
              "      <td>Logistic Regression</td>\n",
              "      <td>0.859673</td>\n",
              "      <td>0.885870</td>\n",
              "      <td>0.871560</td>\n",
              "      <td>0.931373</td>\n",
              "      <td>0.900474</td>\n",
              "      <td>0.769383</td>\n",
              "    </tr>\n",
              "    <tr>\n",
              "      <th>1</th>\n",
              "      <td>Linear SVC</td>\n",
              "      <td>0.862398</td>\n",
              "      <td>0.891304</td>\n",
              "      <td>0.894231</td>\n",
              "      <td>0.911765</td>\n",
              "      <td>0.902913</td>\n",
              "      <td>0.779672</td>\n",
              "    </tr>\n",
              "    <tr>\n",
              "      <th>2</th>\n",
              "      <td>KNN</td>\n",
              "      <td>0.871935</td>\n",
              "      <td>0.885870</td>\n",
              "      <td>0.900990</td>\n",
              "      <td>0.892157</td>\n",
              "      <td>0.896552</td>\n",
              "      <td>0.769332</td>\n",
              "    </tr>\n",
              "    <tr>\n",
              "      <th>3</th>\n",
              "      <td>Random Forest</td>\n",
              "      <td>1.000000</td>\n",
              "      <td>0.880435</td>\n",
              "      <td>0.884615</td>\n",
              "      <td>0.901961</td>\n",
              "      <td>0.893204</td>\n",
              "      <td>0.757615</td>\n",
              "    </tr>\n",
              "    <tr>\n",
              "      <th>4</th>\n",
              "      <td>Voting Classifier</td>\n",
              "      <td>0.889646</td>\n",
              "      <td>0.934783</td>\n",
              "      <td>0.950000</td>\n",
              "      <td>0.931373</td>\n",
              "      <td>0.940594</td>\n",
              "      <td>0.868530</td>\n",
              "    </tr>\n",
              "  </tbody>\n",
              "</table>\n",
              "</div>\n",
              "      <button class=\"colab-df-convert\" onclick=\"convertToInteractive('df-9bc4c93e-8278-4ab5-a805-b51c3d72d85b')\"\n",
              "              title=\"Convert this dataframe to an interactive table.\"\n",
              "              style=\"display:none;\">\n",
              "        \n",
              "  <svg xmlns=\"http://www.w3.org/2000/svg\" height=\"24px\"viewBox=\"0 0 24 24\"\n",
              "       width=\"24px\">\n",
              "    <path d=\"M0 0h24v24H0V0z\" fill=\"none\"/>\n",
              "    <path d=\"M18.56 5.44l.94 2.06.94-2.06 2.06-.94-2.06-.94-.94-2.06-.94 2.06-2.06.94zm-11 1L8.5 8.5l.94-2.06 2.06-.94-2.06-.94L8.5 2.5l-.94 2.06-2.06.94zm10 10l.94 2.06.94-2.06 2.06-.94-2.06-.94-.94-2.06-.94 2.06-2.06.94z\"/><path d=\"M17.41 7.96l-1.37-1.37c-.4-.4-.92-.59-1.43-.59-.52 0-1.04.2-1.43.59L10.3 9.45l-7.72 7.72c-.78.78-.78 2.05 0 2.83L4 21.41c.39.39.9.59 1.41.59.51 0 1.02-.2 1.41-.59l7.78-7.78 2.81-2.81c.8-.78.8-2.07 0-2.86zM5.41 20L4 18.59l7.72-7.72 1.47 1.35L5.41 20z\"/>\n",
              "  </svg>\n",
              "      </button>\n",
              "      \n",
              "  <style>\n",
              "    .colab-df-container {\n",
              "      display:flex;\n",
              "      flex-wrap:wrap;\n",
              "      gap: 12px;\n",
              "    }\n",
              "\n",
              "    .colab-df-convert {\n",
              "      background-color: #E8F0FE;\n",
              "      border: none;\n",
              "      border-radius: 50%;\n",
              "      cursor: pointer;\n",
              "      display: none;\n",
              "      fill: #1967D2;\n",
              "      height: 32px;\n",
              "      padding: 0 0 0 0;\n",
              "      width: 32px;\n",
              "    }\n",
              "\n",
              "    .colab-df-convert:hover {\n",
              "      background-color: #E2EBFA;\n",
              "      box-shadow: 0px 1px 2px rgba(60, 64, 67, 0.3), 0px 1px 3px 1px rgba(60, 64, 67, 0.15);\n",
              "      fill: #174EA6;\n",
              "    }\n",
              "\n",
              "    [theme=dark] .colab-df-convert {\n",
              "      background-color: #3B4455;\n",
              "      fill: #D2E3FC;\n",
              "    }\n",
              "\n",
              "    [theme=dark] .colab-df-convert:hover {\n",
              "      background-color: #434B5C;\n",
              "      box-shadow: 0px 1px 3px 1px rgba(0, 0, 0, 0.15);\n",
              "      filter: drop-shadow(0px 1px 2px rgba(0, 0, 0, 0.3));\n",
              "      fill: #FFFFFF;\n",
              "    }\n",
              "  </style>\n",
              "\n",
              "      <script>\n",
              "        const buttonEl =\n",
              "          document.querySelector('#df-9bc4c93e-8278-4ab5-a805-b51c3d72d85b button.colab-df-convert');\n",
              "        buttonEl.style.display =\n",
              "          google.colab.kernel.accessAllowed ? 'block' : 'none';\n",
              "\n",
              "        async function convertToInteractive(key) {\n",
              "          const element = document.querySelector('#df-9bc4c93e-8278-4ab5-a805-b51c3d72d85b');\n",
              "          const dataTable =\n",
              "            await google.colab.kernel.invokeFunction('convertToInteractive',\n",
              "                                                     [key], {});\n",
              "          if (!dataTable) return;\n",
              "\n",
              "          const docLinkHtml = 'Like what you see? Visit the ' +\n",
              "            '<a target=\"_blank\" href=https://colab.research.google.com/notebooks/data_table.ipynb>data table notebook</a>'\n",
              "            + ' to learn more about interactive tables.';\n",
              "          element.innerHTML = '';\n",
              "          dataTable['output_type'] = 'display_data';\n",
              "          await google.colab.output.renderOutput(dataTable, element);\n",
              "          const docLink = document.createElement('div');\n",
              "          docLink.innerHTML = docLinkHtml;\n",
              "          element.appendChild(docLink);\n",
              "        }\n",
              "      </script>\n",
              "    </div>\n",
              "  </div>\n",
              "  "
            ]
          },
          "metadata": {},
          "execution_count": 95
        }
      ]
    },
    {
      "cell_type": "markdown",
      "source": [
        "Precision: when a positive value is **predicted**, how often is the prediciton correct? aka positive predictive value\n",
        "\n",
        "Recall: when the **actual** value is positive, how often is the prediction correct? How sensitive is the classifier to detecting positive instance? aka TPR and Sensitivity.\n",
        "\n",
        "$F_1$: the harmonic mean of the precision and recall. https://en.wikipedia.org/wiki/F-score\n",
        "\n",
        "The Matthews correlation coefficient is used in machine learning as a measure of the quality of binary and multiclass classifications. It takes into account true and false positives and negatives and is generally regarded as a balanced measure which can be used even if the classes are of very different sizes. The MCC is in essence a correlation coefficient value between -1 and +1. A coefficient of +1 represents a perfect prediction, 0 an average random prediction and -1 an inverse prediction. The statistic is also known as the phi coefficient. [source: Wikipedia]\n",
        "\n",
        "\n",
        "\n"
      ],
      "metadata": {
        "id": "y12MhuWClzF4"
      }
    },
    {
      "cell_type": "code",
      "source": [
        "import seaborn as sns\n",
        "sns.barplot(x='Classifier', y='Train Accuracy', data=df, palette = 'Spectral', edgecolor=sns.color_palette('dark', 7))\n",
        "plt.xticks(rotation=90)\n",
        "plt.title(\"Model Train Accuracy Comparison\")\n",
        "plt.show()"
      ],
      "metadata": {
        "colab": {
          "base_uri": "https://localhost:8080/",
          "height": 381
        },
        "id": "5M26HN6eXhfB",
        "outputId": "663413d7-a809-4bd9-9c12-6cab72d297c0"
      },
      "execution_count": null,
      "outputs": [
        {
          "output_type": "display_data",
          "data": {
            "text/plain": [
              "<Figure size 432x288 with 1 Axes>"
            ],
            "image/png": "[encoded data removed]"
          },
          "metadata": {
            "needs_background": "light"
          }
        }
      ]
    },
    {
      "cell_type": "code",
      "source": [
        "sns.barplot(x='Classifier', y='Test Accuracy', data=df, palette = 'Spectral', edgecolor=sns.color_palette('dark', 7))\n",
        "plt.xticks(rotation=90)\n",
        "plt.title(\"Model Test Accuracy Comparison\")\n",
        "plt.show()"
      ],
      "metadata": {
        "colab": {
          "base_uri": "https://localhost:8080/",
          "height": 381
        },
        "id": "srP5tc29ZxTG",
        "outputId": "84b20506-d9c3-4709-cd7b-bc91c0b84e0e"
      },
      "execution_count": null,
      "outputs": [
        {
          "output_type": "display_data",
          "data": {
            "text/plain": [
              "<Figure size 432x288 with 1 Axes>"
            ],
            "image/png": "[encoded data removed]"
          },
          "metadata": {
            "needs_background": "light"
          }
        }
      ]
    },
    {
      "cell_type": "code",
      "source": [
        "sns.barplot(x='Classifier', y='Precision', data=df, palette = 'Spectral', edgecolor=sns.color_palette('dark', 7))\n",
        "plt.xticks(rotation=90)\n",
        "plt.title(\"Model Precision Comparison\")\n",
        "plt.show()"
      ],
      "metadata": {
        "colab": {
          "base_uri": "https://localhost:8080/",
          "height": 381
        },
        "id": "I2ekyzvaZ6cy",
        "outputId": "7bcc1d16-1b54-4d51-d34f-d31b97b1f7d7"
      },
      "execution_count": null,
      "outputs": [
        {
          "output_type": "display_data",
          "data": {
            "text/plain": [
              "<Figure size 432x288 with 1 Axes>"
            ],
            "image/png": "[encoded data removed]"
          },
          "metadata": {
            "needs_background": "light"
          }
        }
      ]
    },
    {
      "cell_type": "code",
      "source": [
        "sns.barplot(x='Classifier', y='Recall', data=df, palette = 'Spectral', edgecolor=sns.color_palette('dark', 7))\n",
        "plt.xticks(rotation=90)\n",
        "plt.title(\"Model Recall Comparison\")\n",
        "plt.show()"
      ],
      "metadata": {
        "colab": {
          "base_uri": "https://localhost:8080/",
          "height": 381
        },
        "id": "3iX9YByeaMjh",
        "outputId": "8d47b06b-247b-42b5-db9c-d7428cb047b7"
      },
      "execution_count": null,
      "outputs": [
        {
          "output_type": "display_data",
          "data": {
            "text/plain": [
              "<Figure size 432x288 with 1 Axes>"
            ],
            "image/png": "[encoded data removed]"
          },
          "metadata": {
            "needs_background": "light"
          }
        }
      ]
    },
    {
      "cell_type": "code",
      "source": [
        "sns.barplot(x='Classifier', y='F1 Score', data=df, palette = 'Spectral', edgecolor=sns.color_palette('dark', 7))\n",
        "plt.xticks(rotation=90)\n",
        "plt.title(\"Model F1 Score Comparison\")\n",
        "plt.show()"
      ],
      "metadata": {
        "colab": {
          "base_uri": "https://localhost:8080/",
          "height": 381
        },
        "id": "-vrMemTCaZ4c",
        "outputId": "c9d66d05-72c4-4312-80e3-b7bfdcec738e"
      },
      "execution_count": null,
      "outputs": [
        {
          "output_type": "display_data",
          "data": {
            "text/plain": [
              "<Figure size 432x288 with 1 Axes>"
            ],
            "image/png": "[encoded data removed]"
          },
          "metadata": {
            "needs_background": "light"
          }
        }
      ]
    },
    {
      "cell_type": "code",
      "source": [
        "sns.barplot(x='Classifier', y='MCC', data=df, palette = 'Spectral', edgecolor=sns.color_palette('dark', 7))\n",
        "plt.xticks(rotation=90)\n",
        "plt.title(\"Model Matthews correlation coefficient Comparison\")\n",
        "plt.show()"
      ],
      "metadata": {
        "colab": {
          "base_uri": "https://localhost:8080/",
          "height": 381
        },
        "id": "VnH2L29oyy6X",
        "outputId": "94e8d047-b6b3-40d2-cad3-92f86ac6b709"
      },
      "execution_count": null,
      "outputs": [
        {
          "output_type": "display_data",
          "data": {
            "text/plain": [
              "<Figure size 432x288 with 1 Axes>"
            ],
            "image/png": "[encoded data removed]"
          },
          "metadata": {
            "needs_background": "light"
          }
        }
      ]
    },
    {
      "cell_type": "markdown",
      "source": [
        "https://seaborn.pydata.org/tutorial/color_palettes.html\n",
        "\n",
        "https://scikit-learn.org/stable/modules/generated/sklearn.metrics.matthews_corrcoef.html?highlight=matthews%20correlation%20coefficient"
      ],
      "metadata": {
        "id": "HM7RtO6IcmRv"
      }
    }
  ]
}